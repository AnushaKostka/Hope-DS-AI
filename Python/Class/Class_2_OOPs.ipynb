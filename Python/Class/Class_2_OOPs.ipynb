{
  "nbformat": 4,
  "nbformat_minor": 0,
  "metadata": {
    "colab": {
      "provenance": []
    },
    "kernelspec": {
      "name": "python3",
      "display_name": "Python 3"
    },
    "language_info": {
      "name": "python"
    }
  },
  "cells": [
    {
      "cell_type": "markdown",
      "source": [
        "**Class 2 - OOPs**\n",
        "\n",
        "**Date: 1/5/2025**"
      ],
      "metadata": {
        "id": "OIgpojUpMDsa"
      }
    },
    {
      "cell_type": "code",
      "execution_count": null,
      "metadata": {
        "id": "KVZLd2H2KIQw"
      },
      "outputs": [],
      "source": [
        "class multiplefunctions():\n",
        "  def OddEven():\n",
        "    num = int(input('Enter the number: '))\n",
        "    if ((num % 2) == 1):\n",
        "      print('Odd Number')\n",
        "      message = 'Odd Number'\n",
        "    else:\n",
        "      print('Even Number')\n",
        "      message = 'Even Number'\n",
        "    return message\n",
        "  def BMI():\n",
        "    BMI = int(input(\"Enter the BMI Index: \"))\n",
        "    if (BMI < 18.5):\n",
        "      print(\"Underweight\")\n",
        "      message = \"Underweight\"\n",
        "    elif (BMI < 24.9):\n",
        "      print(\"Normal\")\n",
        "      message = \"Normal\"\n",
        "    elif (BMI < 29.9):\n",
        "      print(\"Overweight\")\n",
        "      message = \"Overweight\"\n",
        "    else:\n",
        "     print(\"Very Overweight\")\n",
        "     message = \"Very Overweight\"\n",
        "    return message\n"
      ]
    },
    {
      "cell_type": "code",
      "source": [
        "multiplefunctions.BMI()"
      ],
      "metadata": {
        "colab": {
          "base_uri": "https://localhost:8080/",
          "height": 70
        },
        "id": "-7D04iEXNZ1_",
        "outputId": "41a00991-59fd-40d2-8d6b-9581500e9f30"
      },
      "execution_count": null,
      "outputs": [
        {
          "output_type": "stream",
          "name": "stdout",
          "text": [
            "Enter the BMI Index: 25\n",
            "Overweight\n"
          ]
        },
        {
          "output_type": "execute_result",
          "data": {
            "text/plain": [
              "'Overweight'"
            ],
            "application/vnd.google.colaboratory.intrinsic+json": {
              "type": "string"
            }
          },
          "metadata": {},
          "execution_count": 5
        }
      ]
    },
    {
      "cell_type": "code",
      "source": [
        "multiplefunctions.OddEven()"
      ],
      "metadata": {
        "colab": {
          "base_uri": "https://localhost:8080/",
          "height": 70
        },
        "id": "L2UrVn1bOnOv",
        "outputId": "d44a82cc-54c6-4811-c7a6-6b32d1014d3c"
      },
      "execution_count": null,
      "outputs": [
        {
          "output_type": "stream",
          "name": "stdout",
          "text": [
            "Enter the number: 56\n",
            "Even Number\n"
          ]
        },
        {
          "output_type": "execute_result",
          "data": {
            "text/plain": [
              "'Even Number'"
            ],
            "application/vnd.google.colaboratory.intrinsic+json": {
              "type": "string"
            }
          },
          "metadata": {},
          "execution_count": 6
        }
      ]
    }
  ]
}