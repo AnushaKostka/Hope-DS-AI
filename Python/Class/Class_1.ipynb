{
  "nbformat": 4,
  "nbformat_minor": 0,
  "metadata": {
    "colab": {
      "provenance": []
    },
    "kernelspec": {
      "name": "python3",
      "display_name": "Python 3"
    },
    "language_info": {
      "name": "python"
    }
  },
  "cells": [
    {
      "cell_type": "markdown",
      "source": [
        "**Class 1**\n",
        "\n",
        "**Date: 2/5/2025**"
      ],
      "metadata": {
        "id": "kgg7kgHDhmD_"
      }
    },
    {
      "cell_type": "code",
      "execution_count": 4,
      "metadata": {
        "id": "rKiI6PFMhjK2"
      },
      "outputs": [],
      "source": [
        "class calculator():\n",
        "  def addition(a, b):\n",
        "    add = a + b\n",
        "    return add\n",
        "  def subtraction(a, b):\n",
        "    sub = a - b\n",
        "    return sub\n",
        "  def multiplication(a, b):\n",
        "    mul = a * b\n",
        "    return mul"
      ]
    },
    {
      "cell_type": "code",
      "source": [
        "calculator.addition(6, 4)"
      ],
      "metadata": {
        "colab": {
          "base_uri": "https://localhost:8080/"
        },
        "id": "S-vhqnoLizw4",
        "outputId": "b437d5da-0869-428b-c3b6-b12e8f760ca5"
      },
      "execution_count": 5,
      "outputs": [
        {
          "output_type": "execute_result",
          "data": {
            "text/plain": [
              "10"
            ]
          },
          "metadata": {},
          "execution_count": 5
        }
      ]
    },
    {
      "cell_type": "code",
      "source": [
        "calculator.subtraction(6, 4)"
      ],
      "metadata": {
        "colab": {
          "base_uri": "https://localhost:8080/"
        },
        "id": "FouhkAe9i7BZ",
        "outputId": "ba4b13fa-c34a-4619-88b8-038346ed508c"
      },
      "execution_count": 6,
      "outputs": [
        {
          "output_type": "execute_result",
          "data": {
            "text/plain": [
              "2"
            ]
          },
          "metadata": {},
          "execution_count": 6
        }
      ]
    },
    {
      "cell_type": "code",
      "source": [
        "calculator.multiplication(6, 4)"
      ],
      "metadata": {
        "colab": {
          "base_uri": "https://localhost:8080/"
        },
        "id": "WANP9xQqi_8l",
        "outputId": "ef98dfa5-1169-4c1a-e3f2-c341fc5ea2fc"
      },
      "execution_count": 7,
      "outputs": [
        {
          "output_type": "execute_result",
          "data": {
            "text/plain": [
              "24"
            ]
          },
          "metadata": {},
          "execution_count": 7
        }
      ]
    }
  ]
}