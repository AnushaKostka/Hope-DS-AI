{
  "nbformat": 4,
  "nbformat_minor": 0,
  "metadata": {
    "colab": {
      "provenance": []
    },
    "kernelspec": {
      "name": "python3",
      "display_name": "Python 3"
    },
    "language_info": {
      "name": "python"
    }
  },
  "cells": [
    {
      "cell_type": "markdown",
      "source": [
        "**Function 1**\n",
        "\n",
        "**Date: 27/04/2025**"
      ],
      "metadata": {
        "id": "ONH5NhRFArRw"
      }
    },
    {
      "cell_type": "code",
      "execution_count": 1,
      "metadata": {
        "colab": {
          "base_uri": "https://localhost:8080/"
        },
        "id": "byBS0OVD_hW8",
        "outputId": "5c1c6bde-f153-4936-91ba-0a9f507e4e85"
      },
      "outputs": [
        {
          "output_type": "execute_result",
          "data": {
            "text/plain": [
              "8"
            ]
          },
          "metadata": {},
          "execution_count": 1
        }
      ],
      "source": [
        "# Addition\n",
        "\n",
        "def addition(a, b):\n",
        "  addition = a + b\n",
        "  return addition\n",
        "\n",
        "addition(2, 6)"
      ]
    },
    {
      "cell_type": "code",
      "source": [
        "# Subtraction\n",
        "\n",
        "def subtraction(a, b):\n",
        "  sub = a - b\n",
        "  return sub\n",
        "\n",
        "subtraction(10, 5)"
      ],
      "metadata": {
        "colab": {
          "base_uri": "https://localhost:8080/"
        },
        "id": "dbSAV2ChA9-5",
        "outputId": "38300795-4319-47ca-d299-f3596af85769"
      },
      "execution_count": 2,
      "outputs": [
        {
          "output_type": "execute_result",
          "data": {
            "text/plain": [
              "5"
            ]
          },
          "metadata": {},
          "execution_count": 2
        }
      ]
    },
    {
      "cell_type": "code",
      "source": [
        "# Multiplication\n",
        "\n",
        "def multiplication(a, b):\n",
        "  mul = a * b\n",
        "  return mul\n",
        "\n",
        "multiplication(2, 5)"
      ],
      "metadata": {
        "colab": {
          "base_uri": "https://localhost:8080/"
        },
        "id": "DZV_6Li6A-AY",
        "outputId": "f4765d2e-2241-435f-e5a5-c581b39f0a83"
      },
      "execution_count": 3,
      "outputs": [
        {
          "output_type": "execute_result",
          "data": {
            "text/plain": [
              "10"
            ]
          },
          "metadata": {},
          "execution_count": 3
        }
      ]
    }
  ]
}