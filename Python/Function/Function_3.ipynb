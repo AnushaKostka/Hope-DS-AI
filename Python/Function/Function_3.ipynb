{
  "nbformat": 4,
  "nbformat_minor": 0,
  "metadata": {
    "colab": {
      "provenance": []
    },
    "kernelspec": {
      "name": "python3",
      "display_name": "Python 3"
    },
    "language_info": {
      "name": "python"
    }
  },
  "cells": [
    {
      "cell_type": "markdown",
      "source": [
        "**Function 3**\n",
        "\n",
        "**Date: 27/04/2025**"
      ],
      "metadata": {
        "id": "Vdk_aM3BQUUv"
      }
    },
    {
      "cell_type": "code",
      "execution_count": 1,
      "metadata": {
        "colab": {
          "base_uri": "https://localhost:8080/"
        },
        "id": "LCm-O360M5PI",
        "outputId": "eebc6675-6eb3-4d69-880d-a3ddd1d5779d"
      },
      "outputs": [
        {
          "name": "stdout",
          "output_type": "stream",
          "text": [
            "Enter the age: 45\n"
          ]
        }
      ],
      "source": [
        "age = int(input('Enter the age: '))"
      ]
    },
    {
      "cell_type": "code",
      "source": [
        "def AgeCategory():\n",
        "  if (age < 18):\n",
        "    print(\"Children\")\n",
        "    cate = \"Children\"\n",
        "  elif (age < 35):\n",
        "    print(\"Adult\")\n",
        "    cate = \"Adult\"\n",
        "  elif (age < 59):\n",
        "    print(\"Citizen\")\n",
        "    cate = \"Citizen\"\n",
        "  else:\n",
        "    print(\"Senior Citizen\")\n",
        "    cate = \"Senior Citizen\"\n",
        "  return cate"
      ],
      "metadata": {
        "id": "V0Z4ooBrQj_P"
      },
      "execution_count": 8,
      "outputs": []
    },
    {
      "cell_type": "code",
      "source": [
        "AgeCategory()"
      ],
      "metadata": {
        "colab": {
          "base_uri": "https://localhost:8080/",
          "height": 88
        },
        "id": "h-sPXlWDRBkk",
        "outputId": "cc9bc3c7-b95b-4f3f-eb4d-b3fe401a0f7f"
      },
      "execution_count": 11,
      "outputs": [
        {
          "output_type": "stream",
          "name": "stdout",
          "text": [
            "Adult\n"
          ]
        },
        {
          "output_type": "execute_result",
          "data": {
            "text/plain": [
              "'Adult'"
            ],
            "application/vnd.google.colaboratory.intrinsic+json": {
              "type": "string"
            }
          },
          "metadata": {},
          "execution_count": 9
        },
        {
          "output_type": "stream",
          "name": "stdout",
          "text": [
            "Adult\n"
          ]
        },
        {
          "output_type": "execute_result",
          "data": {
            "text/plain": [
              "'Adult'"
            ],
            "application/vnd.google.colaboratory.intrinsic+json": {
              "type": "string"
            }
          },
          "metadata": {},
          "execution_count": 11
        }
      ]
    },
    {
      "cell_type": "code",
      "source": [
        "agecate = AgeCategory()"
      ],
      "metadata": {
        "colab": {
          "base_uri": "https://localhost:8080/"
        },
        "id": "7XVVT0SgRm8c",
        "outputId": "7a19ac75-a8f4-44f7-b6a7-6d1469ad9861"
      },
      "execution_count": 10,
      "outputs": [
        {
          "output_type": "stream",
          "name": "stdout",
          "text": [
            "Adult\n"
          ]
        }
      ]
    },
    {
      "cell_type": "code",
      "source": [
        "agecate"
      ],
      "metadata": {
        "colab": {
          "base_uri": "https://localhost:8080/",
          "height": 35
        },
        "id": "apcdOiAVRz3V",
        "outputId": "a05d32c0-a2d9-45f0-8f9e-b41fe6ca6d10"
      },
      "execution_count": 5,
      "outputs": [
        {
          "output_type": "execute_result",
          "data": {
            "text/plain": [
              "'Citizen'"
            ],
            "application/vnd.google.colaboratory.intrinsic+json": {
              "type": "string"
            }
          },
          "metadata": {},
          "execution_count": 5
        }
      ]
    }
  ]
}