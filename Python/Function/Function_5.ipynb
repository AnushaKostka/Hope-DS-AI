{
  "nbformat": 4,
  "nbformat_minor": 0,
  "metadata": {
    "colab": {
      "provenance": []
    },
    "kernelspec": {
      "name": "python3",
      "display_name": "Python 3"
    },
    "language_info": {
      "name": "python"
    }
  },
  "cells": [
    {
      "cell_type": "markdown",
      "source": [
        "**Function 5**\n",
        "\n",
        "**Date: 28/04/2025**"
      ],
      "metadata": {
        "id": "hS2WAB-d4Ami"
      }
    },
    {
      "cell_type": "markdown",
      "source": [
        "**Non-Parameterized Function**"
      ],
      "metadata": {
        "id": "t8Ugv0aL6z3U"
      }
    },
    {
      "cell_type": "code",
      "execution_count": 2,
      "metadata": {
        "id": "QMgv6RtY3xqW"
      },
      "outputs": [],
      "source": [
        "def BMI():\n",
        "  BMI = int(input(\"Enter the BMI Index: \"))\n",
        "  if (BMI < 18.5):\n",
        "    print(\"Underweight\")\n",
        "    message = \"Underweight\"\n",
        "  elif (BMI < 24.9):\n",
        "    print(\"Normal\")\n",
        "    message = \"Normal\"\n",
        "  elif (BMI < 29.9):\n",
        "    print(\"Overweight\")\n",
        "    message = \"Overweight\"\n",
        "  else:\n",
        "    print(\"Very Overweight\")\n",
        "    message = \"Very Overweight\"\n",
        "  return message"
      ]
    },
    {
      "cell_type": "code",
      "source": [
        "bmi = BMI()"
      ],
      "metadata": {
        "colab": {
          "base_uri": "https://localhost:8080/"
        },
        "id": "inzz0qig5fc8",
        "outputId": "3a74b06e-6de6-4023-f8ab-4d0b92a25ce3"
      },
      "execution_count": 3,
      "outputs": [
        {
          "output_type": "stream",
          "name": "stdout",
          "text": [
            "Enter the BMI Index: 34\n",
            "Very Overweight\n"
          ]
        }
      ]
    },
    {
      "cell_type": "code",
      "source": [
        "bmi"
      ],
      "metadata": {
        "colab": {
          "base_uri": "https://localhost:8080/",
          "height": 35
        },
        "id": "rnBh4ZF65feL",
        "outputId": "88dd3d67-b4d3-44f9-bb99-dfc9f861ad11"
      },
      "execution_count": 4,
      "outputs": [
        {
          "output_type": "execute_result",
          "data": {
            "text/plain": [
              "'Very Overweight'"
            ],
            "application/vnd.google.colaboratory.intrinsic+json": {
              "type": "string"
            }
          },
          "metadata": {},
          "execution_count": 4
        }
      ]
    },
    {
      "cell_type": "markdown",
      "source": [
        "**Parametrized Function(Arguments)**"
      ],
      "metadata": {
        "id": "nQmGXoeE7OYk"
      }
    },
    {
      "cell_type": "code",
      "source": [
        "def addition(num1, num2):\n",
        "  add = num1 + num2\n",
        "  return add"
      ],
      "metadata": {
        "id": "gjrQiDOr7WJ5"
      },
      "execution_count": 9,
      "outputs": []
    },
    {
      "cell_type": "code",
      "source": [
        "addition(5, 4)"
      ],
      "metadata": {
        "colab": {
          "base_uri": "https://localhost:8080/"
        },
        "id": "3jQaZvAD7hfR",
        "outputId": "ef90dbc4-a9e3-4605-d7e1-ff3b262b73ad"
      },
      "execution_count": 10,
      "outputs": [
        {
          "output_type": "execute_result",
          "data": {
            "text/plain": [
              "9"
            ]
          },
          "metadata": {},
          "execution_count": 10
        }
      ]
    },
    {
      "cell_type": "code",
      "source": [
        "def subtraction(num1, num2):\n",
        "  sub = num1 - num2\n",
        "  return sub"
      ],
      "metadata": {
        "id": "Fs8fUdgY8aZJ"
      },
      "execution_count": 11,
      "outputs": []
    },
    {
      "cell_type": "code",
      "source": [
        "subtraction(2, 3)"
      ],
      "metadata": {
        "colab": {
          "base_uri": "https://localhost:8080/"
        },
        "id": "07O9BQc38jIp",
        "outputId": "cd03d97b-480d-45c5-fdb5-7aef944b9ab7"
      },
      "execution_count": 13,
      "outputs": [
        {
          "output_type": "execute_result",
          "data": {
            "text/plain": [
              "-1"
            ]
          },
          "metadata": {},
          "execution_count": 13
        }
      ]
    }
  ]
}