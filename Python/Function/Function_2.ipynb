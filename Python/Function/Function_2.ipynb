{
  "nbformat": 4,
  "nbformat_minor": 0,
  "metadata": {
    "colab": {
      "provenance": []
    },
    "kernelspec": {
      "name": "python3",
      "display_name": "Python 3"
    },
    "language_info": {
      "name": "python"
    }
  },
  "cells": [
    {
      "cell_type": "markdown",
      "source": [
        "**Function 2**\n",
        "\n",
        "**Date: 27/04/2025**"
      ],
      "metadata": {
        "id": "ksEytvXgL82y"
      }
    },
    {
      "cell_type": "code",
      "execution_count": 4,
      "metadata": {
        "id": "GpGm8TgjL6aX"
      },
      "outputs": [],
      "source": [
        "lists = [23, 45, 67, 34, 89]"
      ]
    },
    {
      "cell_type": "code",
      "source": [
        "def AgeCategory():\n",
        "  for age in lists:\n",
        "    if (age < 18):\n",
        "      print(\"Children\")\n",
        "    if (age < 35):\n",
        "      print(\"Adult\")\n",
        "    if (age < 59):\n",
        "      print(\"Citizen\")\n",
        "    else:\n",
        "      print(\"Senior Citizen\")"
      ],
      "metadata": {
        "id": "m-b97PCIMVkh"
      },
      "execution_count": 5,
      "outputs": []
    },
    {
      "cell_type": "code",
      "source": [
        "AgeCategory()"
      ],
      "metadata": {
        "colab": {
          "base_uri": "https://localhost:8080/"
        },
        "id": "vjnkOKGKMz6h",
        "outputId": "5decc3af-9219-4f62-939d-7035386c700c"
      },
      "execution_count": 6,
      "outputs": [
        {
          "output_type": "stream",
          "name": "stdout",
          "text": [
            "Adult\n",
            "Citizen\n",
            "Citizen\n",
            "Senior Citizen\n",
            "Adult\n",
            "Citizen\n",
            "Senior Citizen\n"
          ]
        }
      ]
    }
  ]
}