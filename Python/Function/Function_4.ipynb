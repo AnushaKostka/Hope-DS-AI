{
  "nbformat": 4,
  "nbformat_minor": 0,
  "metadata": {
    "colab": {
      "provenance": []
    },
    "kernelspec": {
      "name": "python3",
      "display_name": "Python 3"
    },
    "language_info": {
      "name": "python"
    }
  },
  "cells": [
    {
      "cell_type": "markdown",
      "source": [
        "**Function 4**\n",
        "\n",
        "**Date: 28/04/2025**"
      ],
      "metadata": {
        "id": "44SIaF-5uBcV"
      }
    },
    {
      "cell_type": "code",
      "execution_count": 2,
      "metadata": {
        "id": "o_5DW1gBuAxU"
      },
      "outputs": [],
      "source": [
        "def OddEven():\n",
        "  num = int(input('Enter the number: '))\n",
        "  if ((num % 2) == 1):\n",
        "    print('Odd Number')\n",
        "    message = 'Odd Number'\n",
        "  else:\n",
        "    print('Even Number')\n",
        "    message = 'Even Number'\n",
        "  return message"
      ]
    },
    {
      "cell_type": "code",
      "source": [
        "OddEven()"
      ],
      "metadata": {
        "colab": {
          "base_uri": "https://localhost:8080/",
          "height": 70
        },
        "id": "5REC54Z0vse-",
        "outputId": "821745e4-0c04-4158-f8f1-10fa70301190"
      },
      "execution_count": 3,
      "outputs": [
        {
          "output_type": "stream",
          "name": "stdout",
          "text": [
            "Enter the number: 2\n",
            "Even Number\n"
          ]
        },
        {
          "output_type": "execute_result",
          "data": {
            "text/plain": [
              "'Even Number'"
            ],
            "application/vnd.google.colaboratory.intrinsic+json": {
              "type": "string"
            }
          },
          "metadata": {},
          "execution_count": 3
        }
      ]
    },
    {
      "cell_type": "code",
      "source": [
        "OddEven()"
      ],
      "metadata": {
        "colab": {
          "base_uri": "https://localhost:8080/",
          "height": 70
        },
        "id": "9BtERQIq2CBy",
        "outputId": "466fc2fc-30a6-45ce-f874-5c1c073ec04b"
      },
      "execution_count": 4,
      "outputs": [
        {
          "output_type": "stream",
          "name": "stdout",
          "text": [
            "Enter the number: 9\n",
            "Odd Number\n"
          ]
        },
        {
          "output_type": "execute_result",
          "data": {
            "text/plain": [
              "'Odd Number'"
            ],
            "application/vnd.google.colaboratory.intrinsic+json": {
              "type": "string"
            }
          },
          "metadata": {},
          "execution_count": 4
        }
      ]
    },
    {
      "cell_type": "code",
      "source": [
        "message = OddEven()\n"
      ],
      "metadata": {
        "colab": {
          "base_uri": "https://localhost:8080/"
        },
        "id": "2NkkzofS2bfK",
        "outputId": "f0a7778e-4da0-4a61-9b1e-e6c162f6d4f2"
      },
      "execution_count": 5,
      "outputs": [
        {
          "output_type": "stream",
          "name": "stdout",
          "text": [
            "Enter the number: 9\n",
            "Odd Number\n"
          ]
        }
      ]
    },
    {
      "cell_type": "code",
      "source": [
        "message = OddEven()"
      ],
      "metadata": {
        "colab": {
          "base_uri": "https://localhost:8080/"
        },
        "id": "T8yGv0yA26Jn",
        "outputId": "a059170a-3368-45b9-e6d3-4b8131c4bcd9"
      },
      "execution_count": 6,
      "outputs": [
        {
          "output_type": "stream",
          "name": "stdout",
          "text": [
            "Enter the number: 5\n",
            "Odd Number\n"
          ]
        }
      ]
    },
    {
      "cell_type": "code",
      "source": [
        "if (message == 'Even Number'):\n",
        "  print('The given number is Even')\n",
        "else:\n",
        "  print('The given number is Odd')"
      ],
      "metadata": {
        "colab": {
          "base_uri": "https://localhost:8080/"
        },
        "id": "TSyMCFlv2lhS",
        "outputId": "8e9f75bb-781e-4996-97dc-7db26272fb79"
      },
      "execution_count": 7,
      "outputs": [
        {
          "output_type": "stream",
          "name": "stdout",
          "text": [
            "The given number is Odd\n"
          ]
        }
      ]
    }
  ]
}