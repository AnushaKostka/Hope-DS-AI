{
  "nbformat": 4,
  "nbformat_minor": 0,
  "metadata": {
    "colab": {
      "provenance": []
    },
    "kernelspec": {
      "name": "python3",
      "display_name": "Python 3"
    },
    "language_info": {
      "name": "python"
    }
  },
  "cells": [
    {
      "cell_type": "markdown",
      "source": [
        "**Function 3a**\n",
        "\n",
        "**Date: 27/04/2025**"
      ],
      "metadata": {
        "id": "LMYvl_qKS9Zt"
      }
    },
    {
      "cell_type": "markdown",
      "source": [
        "**Return**"
      ],
      "metadata": {
        "id": "EugsRXRMV1Zv"
      }
    },
    {
      "cell_type": "code",
      "execution_count": 13,
      "metadata": {
        "id": "muKSbevjS2qF"
      },
      "outputs": [],
      "source": [
        "def AgeCategory():\n",
        "  if (age < 18):\n",
        "    print(\"Children\")\n",
        "    cate = \"Children\"\n",
        "  elif (age < 35):\n",
        "    print(\"Adult\")\n",
        "    cate = \"Adult\"\n",
        "  elif (age < 59):\n",
        "    print(\"Citizen\")\n",
        "    cate = \"Citizen\"\n",
        "  else:\n",
        "    print(\"Senior Citizen\")\n",
        "    cate = \"Senior Citizen\"\n",
        "  return cate"
      ]
    },
    {
      "cell_type": "code",
      "source": [
        "age = int(input('Enter the age: '))\n",
        "agecate = AgeCategory()"
      ],
      "metadata": {
        "colab": {
          "base_uri": "https://localhost:8080/"
        },
        "id": "9a1-JeLnTLxL",
        "outputId": "c700212c-e0f7-4378-8340-abe998db2161"
      },
      "execution_count": 14,
      "outputs": [
        {
          "output_type": "stream",
          "name": "stdout",
          "text": [
            "Enter the age: 25\n",
            "Adult\n"
          ]
        }
      ]
    },
    {
      "cell_type": "code",
      "source": [
        "print(agecate)"
      ],
      "metadata": {
        "colab": {
          "base_uri": "https://localhost:8080/"
        },
        "id": "oXj1G5mxTgjM",
        "outputId": "8ad40f2f-68b2-4387-d3b0-e1e457533778"
      },
      "execution_count": 15,
      "outputs": [
        {
          "output_type": "stream",
          "name": "stdout",
          "text": [
            "Adult\n"
          ]
        }
      ]
    },
    {
      "cell_type": "markdown",
      "source": [
        "**No Return**"
      ],
      "metadata": {
        "id": "LiHixJUWVKVz"
      }
    },
    {
      "cell_type": "code",
      "source": [
        "def AgeCategoryNOR():\n",
        "  if (age < 18):\n",
        "    print(\"Children\")\n",
        "    cate = \"Children\"\n",
        "  elif (age < 35):\n",
        "    print(\"Adult\")\n",
        "    cate = \"Adult\"\n",
        "  elif (age < 59):\n",
        "    print(\"Citizen\")\n",
        "    cate = \"Citizen\"\n",
        "  else:\n",
        "    print(\"Senior Citizen\")\n",
        "    cate = \"Senior Citizen\""
      ],
      "metadata": {
        "id": "LkyWrV3_Um4r"
      },
      "execution_count": 16,
      "outputs": []
    },
    {
      "cell_type": "code",
      "source": [
        "age = int(input('Enter the age: '))\n",
        "agecate = AgeCategoryNOR()"
      ],
      "metadata": {
        "id": "eqeRvlEIUx0U",
        "outputId": "8f579f4c-3e36-48fc-dab6-9e913d9b95a1",
        "colab": {
          "base_uri": "https://localhost:8080/"
        }
      },
      "execution_count": 17,
      "outputs": [
        {
          "output_type": "stream",
          "name": "stdout",
          "text": [
            "Enter the age: 10\n",
            "Children\n"
          ]
        }
      ]
    },
    {
      "cell_type": "code",
      "source": [
        "print(agecate)"
      ],
      "metadata": {
        "id": "Fu_5La6bVDJs",
        "outputId": "db610abb-de9a-477b-c544-2731076cb332",
        "colab": {
          "base_uri": "https://localhost:8080/"
        }
      },
      "execution_count": 18,
      "outputs": [
        {
          "output_type": "stream",
          "name": "stdout",
          "text": [
            "None\n"
          ]
        }
      ]
    },
    {
      "cell_type": "code",
      "source": [
        "age = int(input('Enter the age: '))\n",
        "agecate1 = AgeCategory()"
      ],
      "metadata": {
        "id": "UCUGEUmaVbP7",
        "outputId": "1a136259-d362-4ae1-b19b-59006b8c48c6",
        "colab": {
          "base_uri": "https://localhost:8080/"
        }
      },
      "execution_count": 19,
      "outputs": [
        {
          "output_type": "stream",
          "name": "stdout",
          "text": [
            "Enter the age: 34\n",
            "Adult\n"
          ]
        }
      ]
    },
    {
      "cell_type": "code",
      "source": [
        "age = int(input('Enter the age: '))\n",
        "agecate2 = AgeCategory()"
      ],
      "metadata": {
        "id": "SwmLbX5GVbRL",
        "outputId": "67cb0538-1a64-4b1c-f7d2-efd1fd4fffe9",
        "colab": {
          "base_uri": "https://localhost:8080/"
        }
      },
      "execution_count": 21,
      "outputs": [
        {
          "output_type": "stream",
          "name": "stdout",
          "text": [
            "Enter the age: 56\n",
            "Citizen\n"
          ]
        }
      ]
    }
  ]
}