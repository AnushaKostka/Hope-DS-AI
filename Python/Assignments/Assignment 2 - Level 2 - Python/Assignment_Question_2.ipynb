{
  "nbformat": 4,
  "nbformat_minor": 0,
  "metadata": {
    "colab": {
      "provenance": []
    },
    "kernelspec": {
      "name": "python3",
      "display_name": "Python 3"
    },
    "language_info": {
      "name": "python"
    }
  },
  "cells": [
    {
      "cell_type": "markdown",
      "source": [
        "**Assignment Question 2**\n",
        "\n",
        "**Date: 27/04/2025**"
      ],
      "metadata": {
        "id": "f0uDBTf72RFY"
      }
    },
    {
      "cell_type": "code",
      "execution_count": 9,
      "metadata": {
        "colab": {
          "base_uri": "https://localhost:8080/"
        },
        "id": "54z5SmVs2BTc",
        "outputId": "73323c35-4651-4bb2-dfda-897726b3843c"
      },
      "outputs": [
        {
          "output_type": "stream",
          "name": "stdout",
          "text": [
            "0\n",
            "1\n",
            "2\n",
            "3\n",
            "4\n",
            "5\n",
            "6\n",
            "7\n",
            "8\n",
            "9\n",
            "10\n",
            "11\n",
            "12\n",
            "13\n",
            "14\n",
            "15\n",
            "16\n",
            "17\n",
            "18\n",
            "19\n",
            "20\n"
          ]
        }
      ],
      "source": [
        "# print 0 to 20 using range\n",
        "\n",
        "for i in range(21):\n",
        "  print(i)"
      ]
    },
    {
      "cell_type": "code",
      "source": [
        "# print range 10 to 20\n",
        "\n",
        "numbers = range(10, 21)\n",
        "for i in numbers:\n",
        "  print(i, end = ' ')"
      ],
      "metadata": {
        "colab": {
          "base_uri": "https://localhost:8080/"
        },
        "id": "NZL7izis20HP",
        "outputId": "a3e7dc72-b6fc-450b-e8fe-6913d0f755a7"
      },
      "execution_count": 7,
      "outputs": [
        {
          "output_type": "stream",
          "name": "stdout",
          "text": [
            "10 11 12 13 14 15 16 17 18 19 20 "
          ]
        }
      ]
    },
    {
      "cell_type": "code",
      "source": [
        "# print the number of items in the list by using 'len'\n",
        "\n",
        "list_a = [10, 20, 14, 55, 43, 87, 76]\n",
        "print(list_a)\n",
        "\n",
        "Number_of_items = len(list_a)\n",
        "print('Number of items in the List2: ', Number_of_items)"
      ],
      "metadata": {
        "colab": {
          "base_uri": "https://localhost:8080/"
        },
        "id": "fRBgPDc24W4W",
        "outputId": "df828d62-0a8a-4bb2-ade0-85117dc646c8"
      },
      "execution_count": 22,
      "outputs": [
        {
          "output_type": "stream",
          "name": "stdout",
          "text": [
            "[10, 20, 14, 55, 43, 87, 76]\n",
            "Number of items in the List2:  7\n"
          ]
        }
      ]
    },
    {
      "cell_type": "code",
      "source": [
        "text = 'Artificial Intelligence'\n",
        "print(text)\n",
        "\n",
        "for char in text:\n",
        "  print(char)"
      ],
      "metadata": {
        "colab": {
          "base_uri": "https://localhost:8080/"
        },
        "id": "ZvA9zyaK5Zjv",
        "outputId": "3b75f15d-8783-44ee-c8b0-d1d2049dc020"
      },
      "execution_count": 15,
      "outputs": [
        {
          "output_type": "stream",
          "name": "stdout",
          "text": [
            "Artificial Intelligence\n",
            "A\n",
            "r\n",
            "t\n",
            "i\n",
            "f\n",
            "i\n",
            "c\n",
            "i\n",
            "a\n",
            "l\n",
            " \n",
            "I\n",
            "n\n",
            "t\n",
            "e\n",
            "l\n",
            "l\n",
            "i\n",
            "g\n",
            "e\n",
            "n\n",
            "c\n",
            "e\n"
          ]
        }
      ]
    },
    {
      "cell_type": "code",
      "source": [
        "Your_Name = 'Anusha'\n",
        "Your_Age = 40\n",
        "Your_Profession = 'Lecturer'\n",
        "\n",
        "print('Your_Name = ', Your_Name)\n",
        "print('Your_Age = ', Your_Age)\n",
        "print('Your_Profession =', Your_Profession)\n"
      ],
      "metadata": {
        "colab": {
          "base_uri": "https://localhost:8080/"
        },
        "id": "VTxi3fQR5l39",
        "outputId": "d4ae1e5b-d030-4d50-b80f-9b7aaa7a7adf"
      },
      "execution_count": 16,
      "outputs": [
        {
          "output_type": "stream",
          "name": "stdout",
          "text": [
            "Your_Name =  Anusha\n",
            "Your_Age =  40\n",
            "Your_Profession = Lecturer\n"
          ]
        }
      ]
    },
    {
      "cell_type": "code",
      "source": [
        "# print mixed data type using tuples\n",
        "\n",
        "tuple_a = (1, 'Welcome', 2, 'Hope')\n",
        "print(tuple_a)"
      ],
      "metadata": {
        "colab": {
          "base_uri": "https://localhost:8080/"
        },
        "id": "9I_3DTaz6g9d",
        "outputId": "398c381a-023c-4c20-d23e-e16be504c170"
      },
      "execution_count": 17,
      "outputs": [
        {
          "output_type": "stream",
          "name": "stdout",
          "text": [
            "(1, 'Welcome', 2, 'Hope')\n"
          ]
        }
      ]
    },
    {
      "cell_type": "code",
      "source": [
        "tuple_a = (1, 2, 3, 4)\n",
        "tuple_b = ('Python', 'Hope')\n",
        "tuple_c = (tuple_a, tuple_b)\n",
        "print(tuple_c)"
      ],
      "metadata": {
        "colab": {
          "base_uri": "https://localhost:8080/"
        },
        "id": "XcMaOJGe634d",
        "outputId": "42669965-f7ce-4f21-8679-96fa7691fc1c"
      },
      "execution_count": 18,
      "outputs": [
        {
          "output_type": "stream",
          "name": "stdout",
          "text": [
            "((1, 2, 3, 4), ('Python', 'Hope'))\n"
          ]
        }
      ]
    },
    {
      "cell_type": "code",
      "source": [
        "# print odd numbers in the list\n",
        "\n",
        "numbers = [20, 10, 16, 19, 25, 1, 276, 188]\n",
        "print(numbers)\n",
        "\n",
        "for i in numbers:\n",
        "  if i % 2 != 0:\n",
        "    print(i, 'is odd')"
      ],
      "metadata": {
        "colab": {
          "base_uri": "https://localhost:8080/"
        },
        "id": "DEVoCo8T8Qhl",
        "outputId": "ca81592f-cbd1-40ad-82a3-ef6af719be8e"
      },
      "execution_count": 21,
      "outputs": [
        {
          "output_type": "stream",
          "name": "stdout",
          "text": [
            "[20, 10, 16, 19, 25, 1, 276, 188]\n",
            "19 is odd\n",
            "25 is odd\n",
            "1 is odd\n"
          ]
        }
      ]
    },
    {
      "cell_type": "code",
      "source": [
        "# print even numbers in the list\n",
        "\n",
        "numbers = [20, 10, 16, 19, 25, 1, 276, 188]\n",
        "print(numbers)\n",
        "\n",
        "for i in numbers:\n",
        "  if i % 2 == 0:\n",
        "    print(i, 'is even')"
      ],
      "metadata": {
        "colab": {
          "base_uri": "https://localhost:8080/"
        },
        "id": "6qLxWIDl7PUm",
        "outputId": "fec9445f-62f5-4976-c00b-7d146dbabd47"
      },
      "execution_count": 20,
      "outputs": [
        {
          "output_type": "stream",
          "name": "stdout",
          "text": [
            "[20, 10, 16, 19, 25, 1, 276, 188]\n",
            "20 is even\n",
            "10 is even\n",
            "16 is even\n",
            "276 is even\n",
            "188 is even\n"
          ]
        }
      ]
    }
  ]
}