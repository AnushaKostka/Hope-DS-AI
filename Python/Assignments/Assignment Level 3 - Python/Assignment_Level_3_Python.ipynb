{
  "nbformat": 4,
  "nbformat_minor": 0,
  "metadata": {
    "colab": {
      "provenance": []
    },
    "kernelspec": {
      "name": "python3",
      "display_name": "Python 3"
    },
    "language_info": {
      "name": "python"
    }
  },
  "cells": [
    {
      "cell_type": "markdown",
      "source": [
        "**Assignment Level 3 - Python**\n",
        "\n",
        "**Date: 27/04/2025**"
      ],
      "metadata": {
        "id": "RbgYjfuybPu2"
      }
    },
    {
      "cell_type": "code",
      "execution_count": 17,
      "metadata": {
        "colab": {
          "base_uri": "https://localhost:8080/"
        },
        "id": "hnXED0eRabB0",
        "outputId": "2bee3eb5-3f7b-458f-8415-a9f7469a3153"
      },
      "outputs": [
        {
          "output_type": "stream",
          "name": "stdout",
          "text": [
            "CORRECT\n"
          ]
        }
      ],
      "source": [
        "# print 'CORRECT' if i == 0\n",
        "\n",
        "i = 0\n",
        "if (i == 0):\n",
        "  print('CORRECT')"
      ]
    },
    {
      "cell_type": "code",
      "source": [
        "# check the password using if and else\n",
        "\n",
        "password = (input('Enter the password: '))\n",
        "\n",
        "if (password == 'HOPE@123'):\n",
        "  print('Password is correct')\n",
        "else:\n",
        "  print('Password is wrong')"
      ],
      "metadata": {
        "colab": {
          "base_uri": "https://localhost:8080/"
        },
        "id": "pCf-Ls_Mbo5G",
        "outputId": "e7cd60c6-be39-41ff-c53c-acf7361a72b5"
      },
      "execution_count": 18,
      "outputs": [
        {
          "output_type": "stream",
          "name": "stdout",
          "text": [
            "Enter the password: HOPE@123\n",
            "Password is correct\n"
          ]
        }
      ]
    },
    {
      "cell_type": "code",
      "source": [
        "# category the people by their age like children, adult, citizen, senior citizen..\n",
        "\n",
        "age = int(input('Enter the age'))\n",
        "\n",
        "if (age < 18):\n",
        "  print('Children')\n",
        "elif (age < 35):\n",
        "  print('Adult')\n",
        "elif (age < 59):\n",
        "  print('Citizen')\n",
        "else:\n",
        "  print('Senior Citizen')"
      ],
      "metadata": {
        "colab": {
          "base_uri": "https://localhost:8080/"
        },
        "id": "oSxrBSEkdPPW",
        "outputId": "27719d70-dcbd-40d3-b90a-a4a51e4c3a81"
      },
      "execution_count": 19,
      "outputs": [
        {
          "output_type": "stream",
          "name": "stdout",
          "text": [
            "Enter the age20\n",
            "Adult\n"
          ]
        }
      ]
    },
    {
      "cell_type": "code",
      "source": [
        "# find whether given number is positive or negative\n",
        "\n",
        "num = int(input('Enter the number: '))\n",
        "\n",
        "if (num < 0):\n",
        "  print('Number is negative')\n",
        "else:\n",
        "  print('Number is positive')"
      ],
      "metadata": {
        "colab": {
          "base_uri": "https://localhost:8080/"
        },
        "id": "jpnffnXcd_K1",
        "outputId": "7621d4ce-9531-47f7-eeaf-5bdea9172fe7"
      },
      "execution_count": 20,
      "outputs": [
        {
          "output_type": "stream",
          "name": "stdout",
          "text": [
            "Enter the number: 1\n",
            "Number is positive\n"
          ]
        }
      ]
    },
    {
      "cell_type": "code",
      "source": [
        "# check whether the given number is divisible by 5\n",
        "\n",
        "num = int(input('Enter the number: '))\n",
        "\n",
        "if (num % 5 == 0):\n",
        "  print('Number is divisible by 5')\n",
        "else:\n",
        "  print('Number is not divisible by 5')"
      ],
      "metadata": {
        "colab": {
          "base_uri": "https://localhost:8080/"
        },
        "id": "AkFua42qegk2",
        "outputId": "c335ca30-eb00-434f-ac40-cb0433f02485"
      },
      "execution_count": 21,
      "outputs": [
        {
          "output_type": "stream",
          "name": "stdout",
          "text": [
            "Enter the number: 22\n",
            "Number is not divisible by 5\n"
          ]
        }
      ]
    }
  ]
}