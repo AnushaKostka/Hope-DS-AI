{
  "nbformat": 4,
  "nbformat_minor": 0,
  "metadata": {
    "colab": {
      "provenance": []
    },
    "kernelspec": {
      "name": "python3",
      "display_name": "Python 3"
    },
    "language_info": {
      "name": "python"
    }
  },
  "cells": [
    {
      "cell_type": "markdown",
      "source": [
        "**Assignment Level 3 - Python**\n",
        "\n",
        "**Date: 27/04/2025**"
      ],
      "metadata": {
        "id": "RbgYjfuybPu2"
      }
    },
    {
      "cell_type": "code",
      "execution_count": 15,
      "metadata": {
        "colab": {
          "base_uri": "https://localhost:8080/"
        },
        "id": "hnXED0eRabB0",
        "outputId": "fbb10ccb-2b2b-4abc-aeb6-c3794df9783c"
      },
      "outputs": [
        {
          "output_type": "stream",
          "name": "stdout",
          "text": [
            "CORRECT\n"
          ]
        }
      ],
      "source": [
        "# print 'CORRECT' if i == 0\n",
        "\n",
        "i = 0\n",
        "if (i == 0):\n",
        "  print('CORRECT')"
      ]
    },
    {
      "cell_type": "code",
      "source": [
        "# check the password using if and else\n",
        "\n",
        "password = (input('Enter the password'))\n",
        "\n",
        "if password == 'HOPE@123':\n",
        "  print('Password is correct')\n",
        "else:\n",
        "  print('Password is wrong')"
      ],
      "metadata": {
        "colab": {
          "base_uri": "https://localhost:8080/"
        },
        "id": "pCf-Ls_Mbo5G",
        "outputId": "a07d1141-43aa-4aa9-bfb6-f1f77b844072"
      },
      "execution_count": 6,
      "outputs": [
        {
          "output_type": "stream",
          "name": "stdout",
          "text": [
            "Enter the passwordHOPE@123\n",
            "Password is correct\n"
          ]
        }
      ]
    },
    {
      "cell_type": "code",
      "source": [
        "# category the people by their age like children, adult, citizen, senior citizen..\n",
        "\n",
        "age = int(input('Enter the age'))\n",
        "\n",
        "if (age < 18):\n",
        "  print('Children')\n",
        "elif (age <35):\n",
        "  print('Adult')\n",
        "elif (age < 59):\n",
        "  print('Citizen')\n",
        "else:\n",
        "  print('Senior Citizen')"
      ],
      "metadata": {
        "colab": {
          "base_uri": "https://localhost:8080/"
        },
        "id": "oSxrBSEkdPPW",
        "outputId": "40733382-be8b-4615-f88d-6474bb467ee6"
      },
      "execution_count": 12,
      "outputs": [
        {
          "output_type": "stream",
          "name": "stdout",
          "text": [
            "Enter the age20\n",
            "Adult\n"
          ]
        }
      ]
    },
    {
      "cell_type": "code",
      "source": [
        "# find whether given number is positive or negative\n",
        "\n",
        "num = int(input('Enter the number: '))\n",
        "\n",
        "if (num < 0):\n",
        "  print('Number is negative')\n",
        "else:\n",
        "  print('Number is positive')"
      ],
      "metadata": {
        "colab": {
          "base_uri": "https://localhost:8080/"
        },
        "id": "jpnffnXcd_K1",
        "outputId": "1cde8645-615a-4dad-a959-226bcb4dd540"
      },
      "execution_count": 11,
      "outputs": [
        {
          "output_type": "stream",
          "name": "stdout",
          "text": [
            "Enter the number: 1\n",
            "Number is positive\n"
          ]
        }
      ]
    },
    {
      "cell_type": "code",
      "source": [
        "# check whether the given number is divisible by 5\n",
        "\n",
        "num = int(input('Enter the number: '))\n",
        "\n",
        "if (num % 5 == 0):\n",
        "  print('Number is divisible by 5')\n",
        "else:\n",
        "  print('Number is not divisible by 5')"
      ],
      "metadata": {
        "colab": {
          "base_uri": "https://localhost:8080/"
        },
        "id": "AkFua42qegk2",
        "outputId": "05108256-f144-4511-ac98-287ee79e5e40"
      },
      "execution_count": 14,
      "outputs": [
        {
          "output_type": "stream",
          "name": "stdout",
          "text": [
            "Enter the number: 22\n",
            "Number is not divisible by 5\n"
          ]
        }
      ]
    }
  ]
}