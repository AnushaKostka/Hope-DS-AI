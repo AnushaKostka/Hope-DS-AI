{
  "nbformat": 4,
  "nbformat_minor": 0,
  "metadata": {
    "colab": {
      "provenance": []
    },
    "kernelspec": {
      "name": "python3",
      "display_name": "Python 3"
    },
    "language_info": {
      "name": "python"
    }
  },
  "cells": [
    {
      "cell_type": "markdown",
      "source": [
        "**Assignment - Function**\n",
        "\n",
        "**Date: 5/1/2025**"
      ],
      "metadata": {
        "id": "01pwKJlpsvdu"
      }
    },
    {
      "cell_type": "code",
      "source": [
        "# Create a class and function, and list out the items in the list"
      ],
      "metadata": {
        "id": "Zekjbhgpt_qW"
      },
      "execution_count": 42,
      "outputs": []
    },
    {
      "cell_type": "code",
      "execution_count": 43,
      "metadata": {
        "id": "EzfYaikNsao2"
      },
      "outputs": [],
      "source": [
        "list_a = ['Machine Learning', 'Neural Networks', 'Vision', 'Robotics', 'Speech Processing', 'Natural Language Processing']"
      ]
    },
    {
      "cell_type": "code",
      "source": [
        "def AI_Subfields():\n",
        "  print('Sub-fields in AI are: ')\n",
        "  for Subfields in list_a:\n",
        "    print(Subfields)"
      ],
      "metadata": {
        "id": "6rGYUAYFtIA2"
      },
      "execution_count": 46,
      "outputs": []
    },
    {
      "cell_type": "code",
      "source": [
        "AI_Subfields()"
      ],
      "metadata": {
        "colab": {
          "base_uri": "https://localhost:8080/"
        },
        "id": "hOf8YjWttxhn",
        "outputId": "27daaf56-6e2a-45cd-a7e7-d46e8e5eb8ee"
      },
      "execution_count": 47,
      "outputs": [
        {
          "output_type": "stream",
          "name": "stdout",
          "text": [
            "Sub-fields in AI are: \n",
            "Machine Learning\n",
            "Neural Networks\n",
            "Vision\n",
            "Robotics\n",
            "Speech Processing\n",
            "Natural Language Processing\n"
          ]
        }
      ]
    },
    {
      "cell_type": "code",
      "source": [
        "# Create a function that checks whether the given number is Odd or Even"
      ],
      "metadata": {
        "id": "mn_4YcImuGMH"
      },
      "execution_count": null,
      "outputs": []
    },
    {
      "cell_type": "code",
      "source": [
        "def OddEven():\n",
        "  num = int(input('Enter the number: '))\n",
        "  if ((num % 2) == 0):\n",
        "    print(num, 'is an even number')\n",
        "  else:\n",
        "    print(num, 'is odd number')"
      ],
      "metadata": {
        "id": "L4ywFrjGuGNO"
      },
      "execution_count": null,
      "outputs": []
    },
    {
      "cell_type": "code",
      "source": [
        "OddEven()"
      ],
      "metadata": {
        "colab": {
          "base_uri": "https://localhost:8080/"
        },
        "id": "sQUQLTR5vSKn",
        "outputId": "b1e82dba-ae51-4366-ef49-ce3d4b52908a"
      },
      "execution_count": null,
      "outputs": [
        {
          "output_type": "stream",
          "name": "stdout",
          "text": [
            "Enter the number: 52452\n",
            "52452 is an even number\n"
          ]
        }
      ]
    },
    {
      "cell_type": "code",
      "source": [
        "# Create a function that tells eligibility of marriage for male and female according to their age limit like 21 for male and 18 for female"
      ],
      "metadata": {
        "id": "Uwjg0CdNveSe"
      },
      "execution_count": null,
      "outputs": []
    },
    {
      "cell_type": "code",
      "source": [
        "def eligible():\n",
        "  if ((gender == 'Male') & (age < 21)):\n",
        "    print('Not Eligible')\n",
        "  elif ((gender == 'Female') & (age > 18)):\n",
        "    print('Eligible for marriage')"
      ],
      "metadata": {
        "id": "mHYxTkqPvriR"
      },
      "execution_count": 50,
      "outputs": []
    },
    {
      "cell_type": "code",
      "source": [
        "gender = input('Your Gender: ')\n",
        "age = int(input('Your Age: '))\n",
        "eligible()"
      ],
      "metadata": {
        "colab": {
          "base_uri": "https://localhost:8080/"
        },
        "id": "lgcfHEznz6tf",
        "outputId": "1f10dd0d-d8ea-4f78-9ee3-e50a92871328"
      },
      "execution_count": null,
      "outputs": [
        {
          "output_type": "stream",
          "name": "stdout",
          "text": [
            "Your Gender: Male\n",
            "Your Age: 19\n",
            "Not Eligible\n"
          ]
        }
      ]
    },
    {
      "cell_type": "code",
      "source": [
        "# calculate the percentage of your 10th mark"
      ],
      "metadata": {
        "id": "EWX_URNz0VfO"
      },
      "execution_count": null,
      "outputs": []
    },
    {
      "cell_type": "code",
      "source": [
        "def marks():\n",
        "  Subject1= 98\n",
        "  Subject2= 87\n",
        "  Subject3= 95\n",
        "  Subject4= 95\n",
        "  Subject5= 93\n",
        "  Total = Subject1 + Subject2 + Subject3 + Subject4 + Subject5\n",
        "  print('Total: ', Total)\n",
        "  percentage = (Total / 5)\n",
        "  print('Percentage: ', percentage)"
      ],
      "metadata": {
        "id": "SFHdobeg0guG"
      },
      "execution_count": null,
      "outputs": []
    },
    {
      "cell_type": "code",
      "source": [
        "marks()"
      ],
      "metadata": {
        "colab": {
          "base_uri": "https://localhost:8080/"
        },
        "id": "Y7H7AHGA1tYW",
        "outputId": "ef333b62-9127-4594-9725-a113692be78a"
      },
      "execution_count": null,
      "outputs": [
        {
          "output_type": "stream",
          "name": "stdout",
          "text": [
            "Total:  468\n",
            "Percentage:  93.6\n"
          ]
        }
      ]
    },
    {
      "cell_type": "code",
      "source": [
        "# print area and perimeter of triangle using class and functions"
      ],
      "metadata": {
        "id": "KIikqiX42Qk2"
      },
      "execution_count": null,
      "outputs": []
    },
    {
      "cell_type": "code",
      "source": [
        "def triangle():\n",
        "  height = 32\n",
        "  breadth =34\n",
        "  print('height= ', height)\n",
        "  print('breadth= ', breadth)\n",
        "  print('Area = (height * breadth) / 2')\n",
        "  Area = (height * breadth) / 2\n",
        "  print('Area of the triangle: ', Area)\n",
        "  height1 = 2\n",
        "  height2 = 4\n",
        "  breadth = 4\n",
        "  Perimeter = height1 + height2 + breadth\n",
        "  print('height1: ', height1)\n",
        "  print('height2: ', height2)\n",
        "  print('breadth: ', breadth)\n",
        "  print('Perimeter = height1 + height2 + breadth')\n",
        "  print('Perimeter of triangle: ', Perimeter)"
      ],
      "metadata": {
        "id": "_vMAnq5w2Rt-"
      },
      "execution_count": 51,
      "outputs": []
    },
    {
      "cell_type": "code",
      "source": [
        "triangle()"
      ],
      "metadata": {
        "colab": {
          "base_uri": "https://localhost:8080/"
        },
        "id": "R06xu4Wr3EHO",
        "outputId": "9be25205-f2b6-4e00-e0b0-0a8ba55e04e8"
      },
      "execution_count": 52,
      "outputs": [
        {
          "output_type": "stream",
          "name": "stdout",
          "text": [
            "height=  32\n",
            "breadth=  34\n",
            "Area = (height * breadth) / 2\n",
            "Area of the triangle:  544.0\n",
            "height1:  2\n",
            "height2:  4\n",
            "breadth:  4\n",
            "Perimeter = height1 + height2 + breadth\n",
            "Perimeter of triangle:  10\n"
          ]
        }
      ]
    }
  ]
}