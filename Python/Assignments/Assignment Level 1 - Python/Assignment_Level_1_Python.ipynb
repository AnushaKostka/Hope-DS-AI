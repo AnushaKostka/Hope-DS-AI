{
  "nbformat": 4,
  "nbformat_minor": 0,
  "metadata": {
    "colab": {
      "provenance": []
    },
    "kernelspec": {
      "name": "python3",
      "display_name": "Python 3"
    },
    "language_info": {
      "name": "python"
    }
  },
  "cells": [
    {
      "cell_type": "markdown",
      "source": [
        "**Assignment Level 1 - Python**\n",
        "\n",
        "**Date: 26/04/2025**"
      ],
      "metadata": {
        "id": "RZ03g-Ixe7-9"
      }
    },
    {
      "cell_type": "code",
      "execution_count": 19,
      "metadata": {
        "colab": {
          "base_uri": "https://localhost:8080/"
        },
        "id": "Fki6Axlle3El",
        "outputId": "550e285e-950b-4840-a326-a4960e56cdd9"
      },
      "outputs": [
        {
          "output_type": "stream",
          "name": "stdout",
          "text": [
            "HOPE AI\n"
          ]
        }
      ],
      "source": [
        "# print statement\n",
        "\n",
        "print('HOPE AI')"
      ]
    },
    {
      "cell_type": "code",
      "source": [
        "# Buy input\n",
        "\n",
        "InstituteName = (input('Enter your Institute Name: '))\n",
        "\n",
        "print(InstituteName)"
      ],
      "metadata": {
        "colab": {
          "base_uri": "https://localhost:8080/"
        },
        "id": "9sai8CH9fSoN",
        "outputId": "aa74ef6a-68cf-498d-c0c0-fa5e7fc6acc2"
      },
      "execution_count": 20,
      "outputs": [
        {
          "output_type": "stream",
          "name": "stdout",
          "text": [
            "Enter your Institute Name: HOPE AI\n",
            "HOPE AI\n"
          ]
        }
      ]
    },
    {
      "cell_type": "code",
      "source": [
        "# Buy inputs\n",
        "\n",
        "Name = (input('Enter your name: '))\n",
        "Age = (input('Enter your age: '))\n",
        "School_Name = (input('Enter your school name: '))\n",
        "Degree = (input('Enter your degree:'))\n",
        "\n",
        "print(Name)\n",
        "print(Age)\n",
        "print(School_Name)\n",
        "print(Degree)"
      ],
      "metadata": {
        "colab": {
          "base_uri": "https://localhost:8080/"
        },
        "id": "KcUK13rmf8Ol",
        "outputId": "195a6750-aeb2-41c2-9fbb-4fb0faacf41c"
      },
      "execution_count": 21,
      "outputs": [
        {
          "output_type": "stream",
          "name": "stdout",
          "text": [
            "Enter your name: Raj\n",
            "Enter your age: 15\n",
            "Enter your school name: Guru School\n",
            "Enter your degree:B.E. CSE\n",
            "Raj\n",
            "15\n",
            "Guru School\n",
            "B.E. CSE\n"
          ]
        }
      ]
    },
    {
      "cell_type": "code",
      "source": [
        "# Addition\n",
        "\n",
        "a = 43\n",
        "b = 34\n",
        "add = a + b\n",
        "print(add)"
      ],
      "metadata": {
        "colab": {
          "base_uri": "https://localhost:8080/"
        },
        "id": "Fi02vOn0gynd",
        "outputId": "e861ebd0-feec-424c-a030-abc17dce923f"
      },
      "execution_count": 22,
      "outputs": [
        {
          "output_type": "stream",
          "name": "stdout",
          "text": [
            "77\n"
          ]
        }
      ]
    },
    {
      "cell_type": "code",
      "source": [
        "# subtraction\n",
        "\n",
        "a = 43\n",
        "b = 34\n",
        "sub = a - b\n",
        "print(sub)"
      ],
      "metadata": {
        "colab": {
          "base_uri": "https://localhost:8080/"
        },
        "id": "TTcXmJ6Gg_L0",
        "outputId": "b79cd70d-7a9f-4435-b780-1c27016d9a2c"
      },
      "execution_count": 23,
      "outputs": [
        {
          "output_type": "stream",
          "name": "stdout",
          "text": [
            "9\n"
          ]
        }
      ]
    },
    {
      "cell_type": "code",
      "source": [
        "# Multiplication\n",
        "\n",
        "a = 63\n",
        "b = 97\n",
        "mul = a * b\n",
        "print(mul)"
      ],
      "metadata": {
        "colab": {
          "base_uri": "https://localhost:8080/"
        },
        "id": "j2xuQHkmhH_k",
        "outputId": "1ee08ca1-9231-4c67-ab5b-beaff6752bb4"
      },
      "execution_count": 24,
      "outputs": [
        {
          "output_type": "stream",
          "name": "stdout",
          "text": [
            "6111\n"
          ]
        }
      ]
    },
    {
      "cell_type": "code",
      "source": [
        "# Division\n",
        "\n",
        "a = 76\n",
        "b = 31\n",
        "div = a/b\n",
        "print(float(div))"
      ],
      "metadata": {
        "colab": {
          "base_uri": "https://localhost:8080/"
        },
        "id": "0nibaMYPhRFc",
        "outputId": "e3f3f7cd-29d3-46ca-a4a4-9450d0159f80"
      },
      "execution_count": 25,
      "outputs": [
        {
          "output_type": "stream",
          "name": "stdout",
          "text": [
            "2.4516129032258065\n"
          ]
        }
      ]
    },
    {
      "cell_type": "code",
      "source": [
        "# Floor Division\n",
        "\n",
        "import math\n",
        "\n",
        "a = 76\n",
        "b = 31\n",
        "div = a/b\n",
        "floor_div = math.floor(div)\n",
        "print(floor_div)"
      ],
      "metadata": {
        "colab": {
          "base_uri": "https://localhost:8080/"
        },
        "id": "k4kUovTCh4wN",
        "outputId": "88eb730a-0462-42f5-d459-364418951da0"
      },
      "execution_count": 26,
      "outputs": [
        {
          "output_type": "stream",
          "name": "stdout",
          "text": [
            "2\n"
          ]
        }
      ]
    },
    {
      "cell_type": "code",
      "source": [
        "# modulo\n",
        "\n",
        "a = 76\n",
        "b = 31\n",
        "mod = a % b\n",
        "print(mod)"
      ],
      "metadata": {
        "colab": {
          "base_uri": "https://localhost:8080/"
        },
        "id": "8L5-7wwEihNU",
        "outputId": "472d5d36-633c-4a98-84e9-7ecba6cdeefa"
      },
      "execution_count": 29,
      "outputs": [
        {
          "output_type": "stream",
          "name": "stdout",
          "text": [
            "14\n"
          ]
        }
      ]
    },
    {
      "cell_type": "code",
      "source": [
        "# power\n",
        "\n",
        "a = 4\n",
        "b = 4\n",
        "power = a ** b\n",
        "print(power)"
      ],
      "metadata": {
        "colab": {
          "base_uri": "https://localhost:8080/"
        },
        "id": "dTvPqDcLitYs",
        "outputId": "dbe71670-1e47-4baf-af5d-46d5651652e4"
      },
      "execution_count": 28,
      "outputs": [
        {
          "output_type": "stream",
          "name": "stdout",
          "text": [
            "256\n"
          ]
        }
      ]
    }
  ]
}