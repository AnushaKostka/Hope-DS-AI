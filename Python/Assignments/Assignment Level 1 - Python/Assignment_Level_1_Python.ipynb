{
  "nbformat": 4,
  "nbformat_minor": 0,
  "metadata": {
    "colab": {
      "provenance": []
    },
    "kernelspec": {
      "name": "python3",
      "display_name": "Python 3"
    },
    "language_info": {
      "name": "python"
    }
  },
  "cells": [
    {
      "cell_type": "markdown",
      "source": [
        "**Assignment Level 1 - Python**\n",
        "\n",
        "**Date: 26/04/2025**"
      ],
      "metadata": {
        "id": "RZ03g-Ixe7-9"
      }
    },
    {
      "cell_type": "code",
      "execution_count": 30,
      "metadata": {
        "colab": {
          "base_uri": "https://localhost:8080/"
        },
        "id": "Fki6Axlle3El",
        "outputId": "28ae7e75-5783-4667-8760-c7ec831eafac"
      },
      "outputs": [
        {
          "output_type": "stream",
          "name": "stdout",
          "text": [
            "HOPE AI\n"
          ]
        }
      ],
      "source": [
        "# print statement\n",
        "\n",
        "print('HOPE AI')"
      ]
    },
    {
      "cell_type": "code",
      "source": [
        "# Buy input\n",
        "\n",
        "InstituteName = (input('Enter your Institute Name: '))\n",
        "\n",
        "print(InstituteName)"
      ],
      "metadata": {
        "colab": {
          "base_uri": "https://localhost:8080/"
        },
        "id": "9sai8CH9fSoN",
        "outputId": "88b935ef-5b7a-42a1-db77-159c425137f9"
      },
      "execution_count": 31,
      "outputs": [
        {
          "output_type": "stream",
          "name": "stdout",
          "text": [
            "Enter your Institute Name: HOPE AI\n",
            "HOPE AI\n"
          ]
        }
      ]
    },
    {
      "cell_type": "code",
      "source": [
        "# Buy inputs\n",
        "\n",
        "Name = (input('Enter your name: '))\n",
        "Age = (input('Enter your age: '))\n",
        "School_Name = (input('Enter your school name: '))\n",
        "Degree = (input('Enter your degree:'))\n",
        "\n",
        "print(Name)\n",
        "print(Age)\n",
        "print(School_Name)\n",
        "print(Degree)"
      ],
      "metadata": {
        "colab": {
          "base_uri": "https://localhost:8080/"
        },
        "id": "KcUK13rmf8Ol",
        "outputId": "93fe58b4-4550-41e5-a7c6-4a973e47b0f6"
      },
      "execution_count": 32,
      "outputs": [
        {
          "output_type": "stream",
          "name": "stdout",
          "text": [
            "Enter your name: Raj\n",
            "Enter your age: 15\n",
            "Enter your school name: Guru School\n",
            "Enter your degree:B.E. CSE\n",
            "Raj\n",
            "15\n",
            "Guru School\n",
            "B.E. CSE\n"
          ]
        }
      ]
    },
    {
      "cell_type": "code",
      "source": [
        "# Addition\n",
        "\n",
        "a = 43\n",
        "b = 34\n",
        "add = a + b\n",
        "print('a =', a)\n",
        "print('b =', b)\n",
        "print('Add =', add)"
      ],
      "metadata": {
        "colab": {
          "base_uri": "https://localhost:8080/"
        },
        "id": "Fi02vOn0gynd",
        "outputId": "184edee5-6f86-40c5-c1a4-5030e9908165"
      },
      "execution_count": 33,
      "outputs": [
        {
          "output_type": "stream",
          "name": "stdout",
          "text": [
            "a = 43\n",
            "b = 34\n",
            "Add = 77\n"
          ]
        }
      ]
    },
    {
      "cell_type": "code",
      "source": [
        "# subtraction\n",
        "\n",
        "a = 43\n",
        "b = 34\n",
        "sub = a - b\n",
        "print('a =', a)\n",
        "print('b =', b)\n",
        "print('Sub =', sub)"
      ],
      "metadata": {
        "colab": {
          "base_uri": "https://localhost:8080/"
        },
        "id": "TTcXmJ6Gg_L0",
        "outputId": "0fdc9844-8300-4a81-b082-6e78f774945b"
      },
      "execution_count": 34,
      "outputs": [
        {
          "output_type": "stream",
          "name": "stdout",
          "text": [
            "a = 43\n",
            "b = 34\n",
            "Sub = 9\n"
          ]
        }
      ]
    },
    {
      "cell_type": "code",
      "source": [
        "# Multiplication\n",
        "\n",
        "a = 63\n",
        "b = 97\n",
        "mul = a * b\n",
        "print('a =', a)\n",
        "print('b =', b)\n",
        "print('Mul =',mul)"
      ],
      "metadata": {
        "colab": {
          "base_uri": "https://localhost:8080/"
        },
        "id": "j2xuQHkmhH_k",
        "outputId": "075fdf89-55e8-4a4f-b05a-7d2cd9de504f"
      },
      "execution_count": 35,
      "outputs": [
        {
          "output_type": "stream",
          "name": "stdout",
          "text": [
            "a = 63\n",
            "b = 97\n",
            "Mul = 6111\n"
          ]
        }
      ]
    },
    {
      "cell_type": "code",
      "source": [
        "# Division\n",
        "\n",
        "a = 76\n",
        "b = 31\n",
        "div = a/b\n",
        "print('a =', a)\n",
        "print('b =', b)\n",
        "print('Float Div =', float(div))"
      ],
      "metadata": {
        "colab": {
          "base_uri": "https://localhost:8080/"
        },
        "id": "0nibaMYPhRFc",
        "outputId": "64cf767d-54f9-467a-9742-7131826174d8"
      },
      "execution_count": 36,
      "outputs": [
        {
          "output_type": "stream",
          "name": "stdout",
          "text": [
            "a = 76\n",
            "b = 31\n",
            "Float Div = 2.4516129032258065\n"
          ]
        }
      ]
    },
    {
      "cell_type": "code",
      "source": [
        "# Floor Division\n",
        "\n",
        "import math\n",
        "\n",
        "a = 76\n",
        "b = 31\n",
        "div = a/b\n",
        "floor_div = math.floor(div)\n",
        "print('a =', a)\n",
        "print('b =', b)\n",
        "print('Floor Div =', floor_div)"
      ],
      "metadata": {
        "colab": {
          "base_uri": "https://localhost:8080/"
        },
        "id": "k4kUovTCh4wN",
        "outputId": "c2b705a2-263a-4d37-ba1e-2def55ce6aed"
      },
      "execution_count": 37,
      "outputs": [
        {
          "output_type": "stream",
          "name": "stdout",
          "text": [
            "a = 76\n",
            "b = 31\n",
            "Floor Div = 2\n"
          ]
        }
      ]
    },
    {
      "cell_type": "code",
      "source": [
        "# modulo\n",
        "\n",
        "a = 76\n",
        "b = 31\n",
        "mod = a % b\n",
        "print('a =', a)\n",
        "print('b =', b)\n",
        "print('Modulo =', mod)"
      ],
      "metadata": {
        "colab": {
          "base_uri": "https://localhost:8080/"
        },
        "id": "8L5-7wwEihNU",
        "outputId": "625aa262-89c2-4b01-d4b1-f0b03d673faf"
      },
      "execution_count": 38,
      "outputs": [
        {
          "output_type": "stream",
          "name": "stdout",
          "text": [
            "a = 76\n",
            "b = 31\n",
            "Modulo = 14\n"
          ]
        }
      ]
    },
    {
      "cell_type": "code",
      "source": [
        "# power\n",
        "\n",
        "a = 4\n",
        "b = 4\n",
        "power = a ** b\n",
        "print('a =', a)\n",
        "print('b =', b)\n",
        "print('Power =', power)"
      ],
      "metadata": {
        "colab": {
          "base_uri": "https://localhost:8080/"
        },
        "id": "dTvPqDcLitYs",
        "outputId": "2deabb44-5148-43ec-de68-d0c48769adb0"
      },
      "execution_count": 39,
      "outputs": [
        {
          "output_type": "stream",
          "name": "stdout",
          "text": [
            "a = 4\n",
            "b = 4\n",
            "Power = 256\n"
          ]
        }
      ]
    }
  ]
}