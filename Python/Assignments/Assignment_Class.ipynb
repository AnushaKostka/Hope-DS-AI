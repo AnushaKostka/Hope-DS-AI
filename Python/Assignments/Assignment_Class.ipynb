{
  "nbformat": 4,
  "nbformat_minor": 0,
  "metadata": {
    "colab": {
      "provenance": []
    },
    "kernelspec": {
      "name": "python3",
      "display_name": "Python 3"
    },
    "language_info": {
      "name": "python"
    }
  },
  "cells": [
    {
      "cell_type": "markdown",
      "source": [
        "**Assignment - Class**\n",
        "\n",
        "**Date: 1/5/2025**"
      ],
      "metadata": {
        "id": "RwI_Er3syBSP"
      }
    },
    {
      "cell_type": "code",
      "source": [
        "# Create a class and function, and list out the items in the list"
      ],
      "metadata": {
        "id": "dmmZhbrYyNHN"
      },
      "execution_count": null,
      "outputs": []
    },
    {
      "cell_type": "code",
      "execution_count": null,
      "metadata": {
        "id": "Co7nZ6zox-HY"
      },
      "outputs": [],
      "source": [
        "list_a = ['Machine Learning', 'Neural Networks', 'Vision', 'Robotics', 'Speech Processing', 'Natural Language Processing']"
      ]
    },
    {
      "cell_type": "code",
      "source": [
        "class Sub_fields():\n",
        "  def AI_Subfields():\n",
        "    print('Sub-fields in AI are: ')\n",
        "    for Subfields in list_a:\n",
        "      print(Subfields)"
      ],
      "metadata": {
        "id": "D7uqo9IxyQFF"
      },
      "execution_count": null,
      "outputs": []
    },
    {
      "cell_type": "code",
      "source": [
        "Sub_fields.AI_Subfields()"
      ],
      "metadata": {
        "colab": {
          "base_uri": "https://localhost:8080/"
        },
        "id": "SHBsmpGEynad",
        "outputId": "a61175f0-1aa6-4068-f13e-cad578496fbf"
      },
      "execution_count": null,
      "outputs": [
        {
          "output_type": "stream",
          "name": "stdout",
          "text": [
            "Sub-fields in AI are: \n",
            "Machine Learning\n",
            "Neural Networks\n",
            "Vision\n",
            "Robotics\n",
            "Speech Processing\n",
            "Natural Language Processing\n"
          ]
        }
      ]
    },
    {
      "cell_type": "code",
      "source": [
        "# Create a function that checks whether the given number is Odd or Even"
      ],
      "metadata": {
        "id": "ivRdbH_Myufm"
      },
      "execution_count": null,
      "outputs": []
    },
    {
      "cell_type": "code",
      "source": [
        "class OddEven_Nos():\n",
        "  def OddEven():\n",
        "    num = int(input('Enter the number: '))\n",
        "    if ((num % 2) == 0):\n",
        "      print(num, 'is an even number')\n",
        "    else:\n",
        "      print(num, 'is odd number')"
      ],
      "metadata": {
        "id": "7y9g5uiUyw3d"
      },
      "execution_count": null,
      "outputs": []
    },
    {
      "cell_type": "code",
      "source": [
        "OddEven_Nos.OddEven()"
      ],
      "metadata": {
        "colab": {
          "base_uri": "https://localhost:8080/"
        },
        "id": "KTYeP4DPy-r9",
        "outputId": "497dee4e-9514-4aae-f1b3-e5f78370e44b"
      },
      "execution_count": null,
      "outputs": [
        {
          "output_type": "stream",
          "name": "stdout",
          "text": [
            "Enter the number: 52452\n",
            "52452 is an even number\n"
          ]
        }
      ]
    },
    {
      "cell_type": "code",
      "source": [
        "# Create a function that tells eligibility of marriage for male and female according to their age limit like 21 for male and 18 for female"
      ],
      "metadata": {
        "id": "0DWYLNMnzGV9"
      },
      "execution_count": null,
      "outputs": []
    },
    {
      "cell_type": "code",
      "source": [
        "class marr_elig():\n",
        "  def eligible():\n",
        "    if ((gender == 'Male') & (age < 21)):\n",
        "      print('Not Eligible')\n",
        "    elif ((gender == 'Female') & (age > 18)):\n",
        "      print('Eligible for marriage')"
      ],
      "metadata": {
        "id": "Nviox0kOzIzm"
      },
      "execution_count": null,
      "outputs": []
    },
    {
      "cell_type": "code",
      "source": [
        "gender = input('Your Gender: ')\n",
        "age = int(input('Your Age: '))\n",
        "marr_elig.eligible()"
      ],
      "metadata": {
        "colab": {
          "base_uri": "https://localhost:8080/"
        },
        "id": "-2UwdaOz0xDG",
        "outputId": "fe6390fd-40f5-4982-fdf3-afa177e8d223"
      },
      "execution_count": null,
      "outputs": [
        {
          "output_type": "stream",
          "name": "stdout",
          "text": [
            "Your Gender: Male\n",
            "Your Age: 19\n",
            "Not Eligible\n"
          ]
        }
      ]
    },
    {
      "cell_type": "code",
      "source": [
        "# calculate the percentage of your 10th mark"
      ],
      "metadata": {
        "id": "iGdqJ3uhzjal"
      },
      "execution_count": null,
      "outputs": []
    },
    {
      "cell_type": "code",
      "source": [
        "class percentage():\n",
        "  def marks():\n",
        "    Subject1= 98\n",
        "    Subject2= 87\n",
        "    Subject3= 95\n",
        "    Subject4= 95\n",
        "    Subject5= 93\n",
        "    Total = Subject1 + Subject2 + Subject3 + Subject4 + Subject5\n",
        "    print('Total: ', Total)\n",
        "    percentage = (Total / 5)\n",
        "    print('Percentage: ', percentage)"
      ],
      "metadata": {
        "id": "BcexV0FEzj_3"
      },
      "execution_count": null,
      "outputs": []
    },
    {
      "cell_type": "code",
      "source": [
        "percentage.marks()"
      ],
      "metadata": {
        "colab": {
          "base_uri": "https://localhost:8080/"
        },
        "id": "eIwk4mjLzwv1",
        "outputId": "f3192f3f-e657-4d92-dc91-89374fcd2032"
      },
      "execution_count": null,
      "outputs": [
        {
          "output_type": "stream",
          "name": "stdout",
          "text": [
            "Total:  468\n",
            "Percentage:  93.6\n"
          ]
        }
      ]
    },
    {
      "cell_type": "code",
      "source": [
        "# print area and perimeter of triangle using class and functions"
      ],
      "metadata": {
        "id": "MMrPjwltz4dV"
      },
      "execution_count": null,
      "outputs": []
    },
    {
      "cell_type": "code",
      "source": [
        "class area_peri():\n",
        "  def triangle():\n",
        "    height = 32\n",
        "    breadth =34\n",
        "    print('height= ', height)\n",
        "    print('breadth= ', breadth)\n",
        "    print('Area = (height * breadth) / 2')\n",
        "    Area = (height * breadth) / 2\n",
        "    print('Area of the triangle: ', Area)\n",
        "    height1 = 2\n",
        "    height2 = 4\n",
        "    breadth = 4\n",
        "    Perimeter = height1 + height2 + breadth\n",
        "    print('height1: ', height1)\n",
        "    print('height2: ', height2)\n",
        "    print('breadth: ', breadth)\n",
        "    print('Perimeter = height1 + height2 + breadth')\n",
        "    print('Perimeter of triangle: ', Perimeter)"
      ],
      "metadata": {
        "id": "opvZKpt8z5WO"
      },
      "execution_count": null,
      "outputs": []
    },
    {
      "cell_type": "code",
      "source": [
        "area_peri.triangle()"
      ],
      "metadata": {
        "colab": {
          "base_uri": "https://localhost:8080/"
        },
        "id": "zWVibNpY0FKu",
        "outputId": "60b160f1-3fa3-4baf-c08d-56a1a53f77c7"
      },
      "execution_count": null,
      "outputs": [
        {
          "output_type": "stream",
          "name": "stdout",
          "text": [
            "height=  32\n",
            "breadth=  34\n",
            "Area = (height * breadth) / 2\n",
            "Area of the triangle:  544.0\n",
            "height1:  2\n",
            "height2:  4\n",
            "breadth:  4\n",
            "Perimeter = height1 + height2 + breadth\n",
            "Perimeter of triangle:  10\n"
          ]
        }
      ]
    }
  ]
}