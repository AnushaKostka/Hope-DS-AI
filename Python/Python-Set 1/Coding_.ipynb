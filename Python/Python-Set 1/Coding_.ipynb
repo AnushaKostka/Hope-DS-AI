{
  "cells": [
    {
      "cell_type": "code",
      "execution_count": 3,
      "id": "5fd5c475",
      "metadata": {
        "colab": {
          "base_uri": "https://localhost:8080/"
        },
        "id": "5fd5c475",
        "outputId": "b3d68d66-cd5b-49fc-e6b5-f1f888980591"
      },
      "outputs": [
        {
          "output_type": "stream",
          "name": "stdout",
          "text": [
            "1 2 3 4 5 "
          ]
        }
      ],
      "source": [
        "# 1.Write a Python program that prints numbers from 1 to 5.\n",
        "# Expected Output:\n",
        "# 1 2 3 4 5\n",
        "\n",
        "for i in range(1, 6):\n",
        "  print(i, end = ' ')"
      ]
    },
    {
      "cell_type": "code",
      "execution_count": 5,
      "id": "3c8bc472",
      "metadata": {
        "colab": {
          "base_uri": "https://localhost:8080/"
        },
        "id": "3c8bc472",
        "outputId": "20e5782d-f925-4f76-c3aa-267914e6f91d"
      },
      "outputs": [
        {
          "output_type": "stream",
          "name": "stdout",
          "text": [
            "2 4 6 8 10 "
          ]
        }
      ],
      "source": [
        "# 2.Write a Python program to print the first 5 even numbers. Expected Output:\n",
        "# 2 4 6 8 10\n",
        "\n",
        "for i in range(1, 11):\n",
        "  if (i % 2 == 0):\n",
        "    print(i, end = ' ')"
      ]
    },
    {
      "cell_type": "code",
      "execution_count": 7,
      "id": "5e7af211",
      "metadata": {
        "colab": {
          "base_uri": "https://localhost:8080/"
        },
        "id": "5e7af211",
        "outputId": "6f82f6c8-7613-4fc5-b7b3-51cf0cd5a444"
      },
      "outputs": [
        {
          "output_type": "stream",
          "name": "stdout",
          "text": [
            "Sum =  55\n"
          ]
        }
      ],
      "source": [
        "# 3.Write a Python program to print the sum of numbers from 1 to 10.\n",
        "# Expected Output:55\n",
        "\n",
        "sum = 0\n",
        "for i in range(1, 11):\n",
        "  sum += i\n",
        "print('Sum = ', sum)\n"
      ]
    },
    {
      "cell_type": "code",
      "execution_count": 10,
      "id": "ac09aa1a",
      "metadata": {
        "colab": {
          "base_uri": "https://localhost:8080/"
        },
        "id": "ac09aa1a",
        "outputId": "ed5202bb-78e6-4d21-abc4-f0595900cb56"
      },
      "outputs": [
        {
          "output_type": "stream",
          "name": "stdout",
          "text": [
            "Factorial of number = 120\n"
          ]
        }
      ],
      "source": [
        "# 4.Write a Python function to find the factorial of 5. Expected Output:\n",
        "# 120\n",
        "\n",
        "fact = 1\n",
        "for i in range(1, 6):\n",
        "    fact *= i\n",
        "print('Factorial of number =', fact)"
      ]
    },
    {
      "cell_type": "code",
      "execution_count": 12,
      "id": "8ab9fc8a",
      "metadata": {
        "colab": {
          "base_uri": "https://localhost:8080/"
        },
        "id": "8ab9fc8a",
        "outputId": "32b1161b-a303-43b1-e7a5-b7fe4f959a2b"
      },
      "outputs": [
        {
          "output_type": "stream",
          "name": "stdout",
          "text": [
            "Number 7 is prime\n"
          ]
        }
      ],
      "source": [
        "# 5.Write a Python program to check if a number is prime. Expected Output (for input 7):\n",
        "# 7 is a prime number\n",
        "\n",
        "if (7 % i == 0):\n",
        "  print('Number 7 is not a prime')\n",
        "else:\n",
        "  print('Number 7 is prime')\n"
      ]
    }
  ],
  "metadata": {
    "kernelspec": {
      "display_name": "Python 3 (ipykernel)",
      "language": "python",
      "name": "python3"
    },
    "language_info": {
      "codemirror_mode": {
        "name": "ipython",
        "version": 3
      },
      "file_extension": ".py",
      "mimetype": "text/x-python",
      "name": "python",
      "nbconvert_exporter": "python",
      "pygments_lexer": "ipython3",
      "version": "3.7.6"
    },
    "colab": {
      "provenance": []
    }
  },
  "nbformat": 4,
  "nbformat_minor": 5
}