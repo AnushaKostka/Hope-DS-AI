{
  "nbformat": 4,
  "nbformat_minor": 0,
  "metadata": {
    "colab": {
      "provenance": []
    },
    "kernelspec": {
      "name": "python3",
      "display_name": "Python 3"
    },
    "language_info": {
      "name": "python"
    }
  },
  "cells": [
    {
      "cell_type": "markdown",
      "source": [
        "**Scenerio 1**"
      ],
      "metadata": {
        "id": "Wv-0DUbvXkrt"
      }
    },
    {
      "cell_type": "code",
      "source": [
        "# to check whether voter is eligible to vote based on age\n",
        "\n",
        "voters_age = int(input('Enter your age:'))\n",
        "\n",
        "if (voters_age >= 18):\n",
        "  print('Eligible to vote')\n",
        "else:\n",
        "  print('Not eligible to vote')"
      ],
      "metadata": {
        "colab": {
          "base_uri": "https://localhost:8080/"
        },
        "id": "Yj94sIr3Xjr4",
        "outputId": "a91c1227-9071-4672-e71f-cc355fe2d269"
      },
      "execution_count": 21,
      "outputs": [
        {
          "output_type": "stream",
          "name": "stdout",
          "text": [
            "Enter your age:25\n",
            "Eligible to vote\n"
          ]
        }
      ]
    },
    {
      "cell_type": "markdown",
      "source": [
        "**Scenerio 2**"
      ],
      "metadata": {
        "id": "XJXN7bOiYnYm"
      }
    },
    {
      "cell_type": "code",
      "source": [
        "# to find the largest number in the list\n",
        "\n",
        "list_a = [15, 26, 89, 76, 35, 21]\n",
        "\n",
        "def large_no(list_a):\n",
        "  large_no = list_a[0]\n",
        "  for i in list_a:\n",
        "    if i >= large_no:\n",
        "      large_no = i\n",
        "  return large_no\n",
        "\n",
        "print('Largest Number is', large_no(list_a))"
      ],
      "metadata": {
        "colab": {
          "base_uri": "https://localhost:8080/"
        },
        "id": "lruH9c3tYqkI",
        "outputId": "0e1e6e72-8290-4a70-8866-cdbf0bb7399b"
      },
      "execution_count": 31,
      "outputs": [
        {
          "output_type": "stream",
          "name": "stdout",
          "text": [
            "Largest Number is 89\n"
          ]
        }
      ]
    },
    {
      "cell_type": "markdown",
      "source": [
        "**Scenerio 3**"
      ],
      "metadata": {
        "id": "5DUtR0KDenOa"
      }
    },
    {
      "cell_type": "code",
      "source": [
        "salary = int(input('Enter the salary: '))\n",
        "\n",
        "if (salary >= 50000):\n",
        "  bonus_salary = ((10/100) + salary)\n",
        "  print('Bonus in salary', bonus_salary)\n",
        "else:\n",
        "  print('No Bonus')"
      ],
      "metadata": {
        "colab": {
          "base_uri": "https://localhost:8080/"
        },
        "id": "9p6D1ZgWeqZm",
        "outputId": "7047db29-0cf6-410b-a54f-ffe74d80bec2"
      },
      "execution_count": 23,
      "outputs": [
        {
          "output_type": "stream",
          "name": "stdout",
          "text": [
            "Enter the salary: 50000\n",
            "Bonus in salary 50000.1\n"
          ]
        }
      ]
    },
    {
      "cell_type": "markdown",
      "source": [
        "**Scenerio 4**"
      ],
      "metadata": {
        "id": "7BxhpugvgVvS"
      }
    },
    {
      "cell_type": "code",
      "source": [
        "# to check if the given number is even or odd\n",
        "\n",
        "number = int(input('Enter the numbers: '))\n",
        "\n",
        "if (number % 2 == 0):\n",
        "  print('Number is even')\n",
        "else:\n",
        "  print('Number is odd')"
      ],
      "metadata": {
        "colab": {
          "base_uri": "https://localhost:8080/"
        },
        "id": "YroNA0uNgZl4",
        "outputId": "6a0b09b3-086b-4409-f840-3136a66ae863"
      },
      "execution_count": 24,
      "outputs": [
        {
          "output_type": "stream",
          "name": "stdout",
          "text": [
            "Enter the numbers: 76\n",
            "Number is even\n"
          ]
        }
      ]
    },
    {
      "cell_type": "markdown",
      "source": [
        "**Scenerio 5**"
      ],
      "metadata": {
        "id": "8aRVR9Zpg3aB"
      }
    },
    {
      "cell_type": "code",
      "source": [
        "# to reverse a word or sentence\n",
        "\n",
        "word_sent = input('Enter the word or sentence:')\n",
        "\n",
        "rev_word_sent = word_sent[::-1]\n",
        "print('Reversed word or sentence: ', rev_word_sent)"
      ],
      "metadata": {
        "id": "FbW1ny_9g7Z-",
        "colab": {
          "base_uri": "https://localhost:8080/"
        },
        "outputId": "7462274c-e6c3-47c2-d306-944d01747723"
      },
      "execution_count": 25,
      "outputs": [
        {
          "output_type": "stream",
          "name": "stdout",
          "text": [
            "Enter the word or sentence:Hello World\n",
            "Reversed word or sentence:  dlroW olleH\n"
          ]
        }
      ]
    },
    {
      "cell_type": "markdown",
      "source": [
        "**Scenerio 6**"
      ],
      "metadata": {
        "id": "gEgsKiz3l5-m"
      }
    },
    {
      "cell_type": "code",
      "source": [
        "sub_marks = int(input('Enter the marks: '))\n",
        "\n",
        "if (sub_marks >= 40):\n",
        "  print('Pass in the exam')\n",
        "else:\n",
        "  print('Fail in the exam')"
      ],
      "metadata": {
        "colab": {
          "base_uri": "https://localhost:8080/"
        },
        "id": "OyuPoL2ll9O3",
        "outputId": "a9fa255e-fa42-4411-a69d-c9399120743e"
      },
      "execution_count": 26,
      "outputs": [
        {
          "output_type": "stream",
          "name": "stdout",
          "text": [
            "Enter the marks: 39\n",
            "Fail in the exam\n"
          ]
        }
      ]
    },
    {
      "cell_type": "markdown",
      "source": [
        "**Scenerio 7**"
      ],
      "metadata": {
        "id": "3gsAtO4xvm-2"
      }
    },
    {
      "cell_type": "code",
      "source": [
        "total_order = 100 - (20 * 100 / 100)\n",
        "print('Total Order =', total_order)\n",
        "if (total_order >= 100):\n",
        "  print('Discount = 20%')\n",
        "else:\n",
        "  print('No discount')"
      ],
      "metadata": {
        "colab": {
          "base_uri": "https://localhost:8080/"
        },
        "id": "lvVPo4OMue-t",
        "outputId": "e6789758-b789-421d-9e56-2be7517ab0d5"
      },
      "execution_count": 27,
      "outputs": [
        {
          "output_type": "stream",
          "name": "stdout",
          "text": [
            "Total Order = 80.0\n",
            "No discount\n"
          ]
        }
      ]
    },
    {
      "cell_type": "markdown",
      "source": [
        "**Scenerio 8**"
      ],
      "metadata": {
        "id": "vDsH260UuaPZ"
      }
    },
    {
      "cell_type": "code",
      "source": [
        "deposit = 100000\n",
        "withdrawal = 50000\n",
        "\n",
        "balance = deposit - withdrawal\n",
        "print('Balance = ', balance)\n",
        "\n",
        "if (balance >= 0):\n",
        "  print('Enough Balance, You can withdraw')\n",
        "else:\n",
        "  print('Inufficient balance, Cannot withraw')\n"
      ],
      "metadata": {
        "colab": {
          "base_uri": "https://localhost:8080/"
        },
        "id": "lh7SorOLuhyW",
        "outputId": "b07adf2d-0b78-45a7-8bbc-b63d2b8cb1af"
      },
      "execution_count": 28,
      "outputs": [
        {
          "output_type": "stream",
          "name": "stdout",
          "text": [
            "Balance =  50000\n",
            "Enough Balance, You can withdraw\n"
          ]
        }
      ]
    },
    {
      "cell_type": "markdown",
      "source": [
        "**Scenerio 9**"
      ],
      "metadata": {
        "id": "1TlanNYx7CLL"
      }
    },
    {
      "cell_type": "code",
      "source": [
        "# to check if the year is leap year or not\n",
        "\n",
        "year = int(input(\" Enter a year: \"))\n",
        "\n",
        "if (year % 4 == 0) and (year % 100 != 0) or (year % 400 == 0):\n",
        "  print(\"Leap Year\")\n",
        "else:\n",
        "  print(\"Not a Leap Year\")"
      ],
      "metadata": {
        "id": "mCVkwInH7HJy",
        "colab": {
          "base_uri": "https://localhost:8080/"
        },
        "outputId": "95b61e87-2c65-4012-abf4-a51291132af0"
      },
      "execution_count": 29,
      "outputs": [
        {
          "output_type": "stream",
          "name": "stdout",
          "text": [
            " Enter a year: 1996\n",
            "Leap Year\n"
          ]
        }
      ]
    },
    {
      "cell_type": "markdown",
      "source": [
        "**Scenerio 10**"
      ],
      "metadata": {
        "id": "QEmp9kJz5rps"
      }
    },
    {
      "cell_type": "code",
      "execution_count": 30,
      "metadata": {
        "colab": {
          "base_uri": "https://localhost:8080/"
        },
        "id": "HsnW4hm55kit",
        "outputId": "933d3622-fa76-4fcf-f30f-70720de16c90"
      },
      "outputs": [
        {
          "output_type": "stream",
          "name": "stdout",
          "text": [
            "Even number is:  34\n",
            "Even number is:  56\n"
          ]
        }
      ],
      "source": [
        "# to print the even numbers in the list\n",
        "\n",
        "list_a = [11, 34, 56, 33, 59]\n",
        "\n",
        "for i in list_a:\n",
        "  if i % 2 == 0:\n",
        "    print(\"Even number is: \", i)"
      ]
    }
  ]
}