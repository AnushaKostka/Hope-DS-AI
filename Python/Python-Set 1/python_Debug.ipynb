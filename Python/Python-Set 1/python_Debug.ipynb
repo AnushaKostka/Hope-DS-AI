{
  "cells": [
    {
      "cell_type": "code",
      "execution_count": 4,
      "id": "8e02775a",
      "metadata": {
        "colab": {
          "base_uri": "https://localhost:8080/"
        },
        "id": "8e02775a",
        "outputId": "1e746f09-2647-4a78-93b6-72d12733ce51"
      },
      "outputs": [
        {
          "output_type": "stream",
          "name": "stdout",
          "text": [
            "0\n",
            "1\n",
            "2\n",
            "3\n",
            "4\n"
          ]
        }
      ],
      "source": [
        "# 1.Find the error in the following Python code:\n",
        "\n",
        "for i in range(5):\n",
        "  print(i)\n",
        ""
      ]
    },
    {
      "cell_type": "code",
      "execution_count": 6,
      "id": "df3cee51",
      "metadata": {
        "colab": {
          "base_uri": "https://localhost:8080/"
        },
        "id": "df3cee51",
        "outputId": "e992886c-db83-4f61-948f-146347693758"
      },
      "outputs": [
        {
          "output_type": "stream",
          "name": "stdout",
          "text": [
            "15\n"
          ]
        }
      ],
      "source": [
        "# 2.What will be the output of this code?\n",
        "\n",
        "a = 10\n",
        "b = 5\n",
        "print(a + b)\n",
        ""
      ]
    },
    {
      "cell_type": "code",
      "execution_count": 7,
      "id": "15c2e7b2",
      "metadata": {
        "colab": {
          "base_uri": "https://localhost:8080/"
        },
        "id": "15c2e7b2",
        "outputId": "545e9774-aa35-4db1-bd4a-b56e1c1d0cfe"
      },
      "outputs": [
        {
          "output_type": "execute_result",
          "data": {
            "text/plain": [
              "3"
            ]
          },
          "metadata": {},
          "execution_count": 7
        }
      ],
      "source": [
        "# 3.What is the issue in this Python snippet?\n",
        "\n",
        "def add_numbers(a,b):\n",
        "  return a + b\n",
        "\n",
        "add_numbers(1, 2)"
      ]
    },
    {
      "cell_type": "code",
      "execution_count": 9,
      "id": "2f8e5efd",
      "metadata": {
        "colab": {
          "base_uri": "https://localhost:8080/"
        },
        "id": "2f8e5efd",
        "outputId": "5e475f6e-0af7-494f-a474-e73686554154"
      },
      "outputs": [
        {
          "output_type": "stream",
          "name": "stdout",
          "text": [
            "4\n"
          ]
        }
      ],
      "source": [
        "\n",
        "# 4.Identify the bug in the following Python code:\n",
        "\n",
        "numbers = [1, 2, 3, 4]\n",
        "print(numbers[3])"
      ]
    },
    {
      "cell_type": "code",
      "execution_count": 11,
      "id": "bc0080c1",
      "metadata": {
        "colab": {
          "base_uri": "https://localhost:8080/"
        },
        "id": "bc0080c1",
        "outputId": "b4688055-693d-41b8-bd5a-adfea5ecb62a"
      },
      "outputs": [
        {
          "output_type": "stream",
          "name": "stdout",
          "text": [
            "Hello, World!\n"
          ]
        }
      ],
      "source": [
        "# 5.Find the error in the following Python code:\n",
        "print(\"Hello, World!\")"
      ]
    },
    {
      "cell_type": "code",
      "execution_count": 13,
      "id": "5b449ecb",
      "metadata": {
        "colab": {
          "base_uri": "https://localhost:8080/"
        },
        "id": "5b449ecb",
        "outputId": "b983bfcd-9a1e-43f0-a3dc-f9db48dae34c"
      },
      "outputs": [
        {
          "output_type": "stream",
          "name": "stdout",
          "text": [
            "2.5\n"
          ]
        }
      ],
      "source": [
        "# 6.Find the error in the following Python code:\n",
        "x = 5 / 2\n",
        "print(x)\n"
      ]
    },
    {
      "cell_type": "code",
      "execution_count": 16,
      "id": "79260565",
      "metadata": {
        "colab": {
          "base_uri": "https://localhost:8080/"
        },
        "id": "79260565",
        "outputId": "989c003d-f02c-4b1f-d45a-7b1aaac70ee0"
      },
      "outputs": [
        {
          "output_type": "stream",
          "name": "stdout",
          "text": [
            "Name:  Alice  , Age:  25\n"
          ]
        }
      ],
      "source": [
        "# 7.Find the error in the following Python code:name = \"Alice\"\n",
        "\n",
        "name = \"Alice\"\n",
        "age = 25\n",
        "print(\"Name: \" , name, \" , \"  \"Age: \", age)\n"
      ]
    },
    {
      "cell_type": "code",
      "execution_count": 24,
      "id": "3e4b6f3b",
      "metadata": {
        "colab": {
          "base_uri": "https://localhost:8080/"
        },
        "id": "3e4b6f3b",
        "outputId": "53ad42bd-771f-45fb-a08d-9d7d373e9652"
      },
      "outputs": [
        {
          "output_type": "stream",
          "name": "stdout",
          "text": [
            "1\n",
            "2\n",
            "3\n",
            "4\n",
            "5\n",
            "6\n",
            "7\n",
            "8\n",
            "9\n"
          ]
        }
      ],
      "source": [
        "# 8.Find the error\n",
        "\n",
        "for i in range(1, 10):\n",
        "  print(i)\n"
      ]
    },
    {
      "cell_type": "code",
      "execution_count": 43,
      "id": "95976c4d",
      "metadata": {
        "colab": {
          "base_uri": "https://localhost:8080/"
        },
        "id": "95976c4d",
        "outputId": "dbaa5212-f598-4ddb-eb91-fa8ab14d3b2a"
      },
      "outputs": [
        {
          "output_type": "stream",
          "name": "stdout",
          "text": [
            "x is 5\n"
          ]
        }
      ],
      "source": [
        "# 9. Find the error in the following Python code:\n",
        "\n",
        "x = 5\n",
        "if (x == 5):\n",
        "  print('x is 5')\n",
        "else:\n",
        "  print('Not 5')\n"
      ]
    },
    {
      "cell_type": "code",
      "execution_count": 42,
      "id": "317eca50",
      "metadata": {
        "colab": {
          "base_uri": "https://localhost:8080/"
        },
        "id": "317eca50",
        "outputId": "99e441f2-8589-4767-ddc2-ee1df78c23a5"
      },
      "outputs": [
        {
          "output_type": "stream",
          "name": "stdout",
          "text": [
            "Hello, Alice\n"
          ]
        }
      ],
      "source": [
        "# 10. Identify the error in the following function definition:\n",
        "\n",
        "def greet(name):\n",
        "  print(\"Hello, \" + name)\n",
        "\n",
        "greet('Alice')"
      ]
    }
  ],
  "metadata": {
    "kernelspec": {
      "display_name": "Python 3 (ipykernel)",
      "language": "python",
      "name": "python3"
    },
    "language_info": {
      "codemirror_mode": {
        "name": "ipython",
        "version": 3
      },
      "file_extension": ".py",
      "mimetype": "text/x-python",
      "name": "python",
      "nbconvert_exporter": "python",
      "pygments_lexer": "ipython3",
      "version": "3.7.6"
    },
    "colab": {
      "provenance": []
    }
  },
  "nbformat": 4,
  "nbformat_minor": 5
}