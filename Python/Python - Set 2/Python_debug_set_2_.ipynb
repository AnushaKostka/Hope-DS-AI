{
  "cells": [
    {
      "cell_type": "code",
      "execution_count": null,
      "id": "90e9fa4e",
      "metadata": {
        "colab": {
          "base_uri": "https://localhost:8080/"
        },
        "id": "90e9fa4e",
        "outputId": "c215b97e-7c3f-4afe-c109-bd4610bbdc34"
      },
      "outputs": [
        {
          "output_type": "stream",
          "name": "stdout",
          "text": [
            "4.0\n"
          ]
        }
      ],
      "source": [
        "# 1.Find the error in the following Python code:\n",
        "\n",
        "import math\n",
        "print(math.sqrt(16))\n"
      ]
    },
    {
      "cell_type": "code",
      "execution_count": null,
      "id": "55520fd2",
      "metadata": {
        "colab": {
          "base_uri": "https://localhost:8080/"
        },
        "id": "55520fd2",
        "outputId": "a0334670-8ede-4a74-c160-255fdb851015"
      },
      "outputs": [
        {
          "output_type": "stream",
          "name": "stdout",
          "text": [
            "15\n"
          ]
        }
      ],
      "source": [
        "# 2.Find the error in the following Python code:\n",
        "\n",
        "def my_function(x):\n",
        "  x += 5\n",
        "  print(x)\n",
        "\n",
        "my_function(10)\n"
      ]
    },
    {
      "cell_type": "code",
      "execution_count": null,
      "id": "f23899ca",
      "metadata": {
        "colab": {
          "base_uri": "https://localhost:8080/"
        },
        "id": "f23899ca",
        "outputId": "a6eeba77-d7b4-4ba4-ddad-b5cbe7ddadfd"
      },
      "outputs": [
        {
          "output_type": "stream",
          "name": "stdout",
          "text": [
            "x is 5\n"
          ]
        }
      ],
      "source": [
        "# 3.x = 5\n",
        "\n",
        "x = 5\n",
        "if x == 5:\n",
        "  print(\"x is 5\")\n"
      ]
    },
    {
      "cell_type": "code",
      "execution_count": null,
      "id": "c644c2f2",
      "metadata": {
        "colab": {
          "base_uri": "https://localhost:8080/"
        },
        "id": "c644c2f2",
        "outputId": "dd0398be-d0c4-45ff-d3dd-1ce2359990b1"
      },
      "outputs": [
        {
          "output_type": "stream",
          "name": "stdout",
          "text": [
            "[2, 3, 5, 8]\n"
          ]
        }
      ],
      "source": [
        "# 4.\n",
        "\n",
        "numbers = [5, 3, 8, 2]\n",
        "print(sorted(numbers))\n"
      ]
    },
    {
      "cell_type": "code",
      "execution_count": 39,
      "id": "c6bc9bfb",
      "metadata": {
        "id": "c6bc9bfb",
        "colab": {
          "base_uri": "https://localhost:8080/"
        },
        "outputId": "fce24d2e-3d4b-4221-86d4-05ec79d0d4e8"
      },
      "outputs": [
        {
          "output_type": "stream",
          "name": "stdout",
          "text": [
            "16\n"
          ]
        }
      ],
      "source": [
        "# 5.\n",
        "\n",
        "def square(n):\n",
        "  return n * n\n",
        "\n",
        "print(square(4))\n"
      ]
    },
    {
      "cell_type": "code",
      "execution_count": 38,
      "id": "3a9dbcc0",
      "metadata": {
        "id": "3a9dbcc0",
        "colab": {
          "base_uri": "https://localhost:8080/"
        },
        "outputId": "af163ba2-98f7-40a2-8f8f-be073c564301"
      },
      "outputs": [
        {
          "output_type": "stream",
          "name": "stdout",
          "text": [
            "Tuple = (1, 2, 3, 5)\n",
            "5\n"
          ]
        }
      ],
      "source": [
        "# 6.\n",
        "my_tuple = (1, 2, 3)\n",
        "new_tuple = my_tuple + (5,)\n",
        "print('Tuple =', new_tuple)\n",
        "\n",
        "print(new_tuple[3])\n"
      ]
    },
    {
      "cell_type": "code",
      "execution_count": null,
      "id": "4a72685b",
      "metadata": {
        "id": "4a72685b",
        "colab": {
          "base_uri": "https://localhost:8080/"
        },
        "outputId": "7ddf6811-f8a7-4939-8bd9-69c40db76f01"
      },
      "outputs": [
        {
          "output_type": "stream",
          "name": "stdout",
          "text": [
            "My name is Alice and I am 25 years old\n"
          ]
        }
      ],
      "source": [
        "# 7.\n",
        "\n",
        "name = \"Alice\"\n",
        "age = 25\n",
        "print(f'My name is {name} and I am {age} years old')\n"
      ]
    },
    {
      "cell_type": "code",
      "execution_count": 40,
      "id": "3de969fe",
      "metadata": {
        "id": "3de969fe",
        "colab": {
          "base_uri": "https://localhost:8080/"
        },
        "outputId": "9ce6c635-20a1-4343-b35a-d1d2081ec7f5"
      },
      "outputs": [
        {
          "output_type": "stream",
          "name": "stdout",
          "text": [
            "Lists are equal\n"
          ]
        }
      ],
      "source": [
        "# 8.\n",
        "\n",
        "a = [1, 2, 3]\n",
        "b = [1, 2, 3]\n",
        "if a == b:\n",
        "  print(\"Lists are equal\")\n"
      ]
    },
    {
      "cell_type": "code",
      "execution_count": null,
      "id": "dbe38465",
      "metadata": {
        "id": "dbe38465",
        "colab": {
          "base_uri": "https://localhost:8080/"
        },
        "outputId": "8ae4c647-5341-4d27-bf63-076d4ff16629"
      },
      "outputs": [
        {
          "output_type": "stream",
          "name": "stdout",
          "text": [
            "1\n",
            "2\n",
            "3\n",
            "4\n"
          ]
        }
      ],
      "source": [
        "# 9.\n",
        "\n",
        "for i in range(1, 5):\n",
        "  print(i)\n"
      ]
    },
    {
      "cell_type": "code",
      "execution_count": 41,
      "id": "30cb0523",
      "metadata": {
        "id": "30cb0523",
        "colab": {
          "base_uri": "https://localhost:8080/"
        },
        "outputId": "69db48a2-b69f-432b-a714-26291b9ce400"
      },
      "outputs": [
        {
          "output_type": "stream",
          "name": "stdout",
          "text": [
            "John\n"
          ]
        }
      ],
      "source": [
        "# 10.\n",
        "\n",
        "student = {'name': 'John', 'age': 20}\n",
        "print(student['name'])\n"
      ]
    }
  ],
  "metadata": {
    "kernelspec": {
      "display_name": "Python 3 (ipykernel)",
      "language": "python",
      "name": "python3"
    },
    "language_info": {
      "codemirror_mode": {
        "name": "ipython",
        "version": 3
      },
      "file_extension": ".py",
      "mimetype": "text/x-python",
      "name": "python",
      "nbconvert_exporter": "python",
      "pygments_lexer": "ipython3",
      "version": "3.7.6"
    },
    "colab": {
      "provenance": []
    }
  },
  "nbformat": 4,
  "nbformat_minor": 5
}