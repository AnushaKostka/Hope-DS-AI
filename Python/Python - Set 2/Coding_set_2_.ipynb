{
  "cells": [
    {
      "cell_type": "code",
      "execution_count": 4,
      "id": "aba1475d",
      "metadata": {
        "colab": {
          "base_uri": "https://localhost:8080/"
        },
        "id": "aba1475d",
        "outputId": "785a2552-5af9-43b5-cbe3-249f73b1a85c"
      },
      "outputs": [
        {
          "output_type": "stream",
          "name": "stdout",
          "text": [
            "olleh\n"
          ]
        }
      ],
      "source": [
        "# 1.Write a Python program to find the reverse of a string. Expected Output (for input \"hello\"):\n",
        "# olleh\n",
        "\n",
        "input = 'hello'\n",
        "revx = input[::-1]\n",
        "print(revx)"
      ]
    },
    {
      "cell_type": "code",
      "execution_count": 6,
      "id": "5b1ec143",
      "metadata": {
        "colab": {
          "base_uri": "https://localhost:8080/"
        },
        "id": "5b1ec143",
        "outputId": "07baca5d-8e89-4205-adab-e934424a0d7d"
      },
      "outputs": [
        {
          "output_type": "stream",
          "name": "stdout",
          "text": [
            "0 1 1 2 3 5 8 13 21 34 "
          ]
        }
      ],
      "source": [
        "# 2.Write a Python program to generate the Fibonacci sequence up to 10 terms.\n",
        "# Expected Output:\n",
        "# 0 1 1 2 3 5 8 13 21 34\n",
        "\n",
        "n = 10\n",
        "a = 0\n",
        "b = 1\n",
        "for i in range(n):\n",
        "  print(a, end = ' ')\n",
        "  a, b = b, a + b"
      ]
    },
    {
      "cell_type": "code",
      "execution_count": 8,
      "id": "c656f04a",
      "metadata": {
        "colab": {
          "base_uri": "https://localhost:8080/"
        },
        "id": "c656f04a",
        "outputId": "1ae4a4ed-3072-4ab5-f9b9-6ac18b418411"
      },
      "outputs": [
        {
          "output_type": "stream",
          "name": "stdout",
          "text": [
            "Palindrome\n"
          ]
        }
      ],
      "source": [
        "# 3.Write a Python function to check if a given string is a palindrome.\n",
        "# Expected Output (for input \"madam\"):\n",
        "# madam is a palindrome\n",
        "\n",
        "input = 'madam'\n",
        "if (input == input[::-1]):\n",
        "  print('Palindrome')\n",
        "else:\n",
        "  print('Not Palindrome')"
      ]
    },
    {
      "cell_type": "code",
      "execution_count": 10,
      "id": "cd7b0a78",
      "metadata": {
        "colab": {
          "base_uri": "https://localhost:8080/"
        },
        "id": "cd7b0a78",
        "outputId": "4b67a152-3afd-4d0a-f977-c0e35eceb7c3"
      },
      "outputs": [
        {
          "output_type": "stream",
          "name": "stdout",
          "text": [
            "Number of vowels 5\n"
          ]
        }
      ],
      "source": [
        "\n",
        "\n",
        "# 4.Write a Python program to count the number of vowels in a given string.\n",
        "# Expected Output (for input \"education\"):\n",
        "\n",
        "# Number of vowels: 5\n",
        "\n",
        "input = 'education'\n",
        "vowels = 'aeiouAEIOU'\n",
        "\n",
        "count = 0\n",
        "\n",
        "for i in input:\n",
        "  if i in vowels:\n",
        "    count += 1\n",
        "print('Number of vowels', count)"
      ]
    },
    {
      "cell_type": "code",
      "execution_count": 11,
      "id": "bdbb9b19",
      "metadata": {
        "colab": {
          "base_uri": "https://localhost:8080/"
        },
        "id": "bdbb9b19",
        "outputId": "4940ba60-7a8b-4d2a-eb4b-36a193e68e0c"
      },
      "outputs": [
        {
          "output_type": "stream",
          "name": "stdout",
          "text": [
            "[1, 2, 3, 4, 5]\n"
          ]
        }
      ],
      "source": [
        "# 5.Write a Python program to remove duplicates from a list.\n",
        "# Expected Output (for input [1, 2, 2, 3, 4, 4, 5]):\n",
        "# [1, 2, 3, 4, 5]\n",
        "\n",
        "input = [1, 2, 2, 3, 4, 4, 5]\n",
        "newlist = list(set(input))\n",
        "\n",
        "print(newlist)"
      ]
    }
  ],
  "metadata": {
    "kernelspec": {
      "display_name": "Python 3 (ipykernel)",
      "language": "python",
      "name": "python3"
    },
    "language_info": {
      "codemirror_mode": {
        "name": "ipython",
        "version": 3
      },
      "file_extension": ".py",
      "mimetype": "text/x-python",
      "name": "python",
      "nbconvert_exporter": "python",
      "pygments_lexer": "ipython3",
      "version": "3.7.6"
    },
    "colab": {
      "provenance": []
    }
  },
  "nbformat": 4,
  "nbformat_minor": 5
}